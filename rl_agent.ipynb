{
 "cells": [
  {
   "cell_type": "code",
   "execution_count": 6,
   "id": "23241c33-f9d0-47dd-9346-b974f6f4b5f4",
   "metadata": {},
   "outputs": [
    {
     "name": "stdout",
     "output_type": "stream",
     "text": [
      "Tue Jul 12 07:55:33 2022       \n",
      "+-----------------------------------------------------------------------------+\n",
      "| NVIDIA-SMI 440.64       Driver Version: 440.64       CUDA Version: 10.2     |\n",
      "|-------------------------------+----------------------+----------------------+\n",
      "| GPU  Name        Persistence-M| Bus-Id        Disp.A | Volatile Uncorr. ECC |\n",
      "| Fan  Temp  Perf  Pwr:Usage/Cap|         Memory-Usage | GPU-Util  Compute M. |\n",
      "|===============================+======================+======================|\n",
      "|   0  GeForce GTX 108...  Off  | 00000000:17:00.0 Off |                  N/A |\n",
      "|  0%   39C    P8    13W / 250W |   6035MiB / 11178MiB |      0%      Default |\n",
      "+-------------------------------+----------------------+----------------------+\n",
      "|   1  GeForce GTX 108...  Off  | 00000000:65:00.0 Off |                  N/A |\n",
      "| 48%   65C    P2    83W / 250W |   9673MiB / 11176MiB |    100%      Default |\n",
      "+-------------------------------+----------------------+----------------------+\n",
      "                                                                               \n",
      "+-----------------------------------------------------------------------------+\n",
      "| Processes:                                                       GPU Memory |\n",
      "|  GPU       PID   Type   Process name                             Usage      |\n",
      "|=============================================================================|\n",
      "|    0      7078      C   /usr/bin/python3                            4641MiB |\n",
      "|    0     24878      C   /usr/bin/python3                            1247MiB |\n",
      "|    0     27024      C   /usr/bin/python3                             137MiB |\n",
      "|    1     15538      C   python3                                        8MiB |\n",
      "|    1     18397      C   python                                      9647MiB |\n",
      "|    1     20798      C   python3                                        8MiB |\n",
      "+-----------------------------------------------------------------------------+\n"
     ]
    }
   ],
   "source": [
    "!nvidia-smi"
   ]
  },
  {
   "cell_type": "code",
   "execution_count": 7,
   "id": "e6bebed9-eefb-4660-9daf-63a9a53cccd7",
   "metadata": {},
   "outputs": [
    {
     "name": "stdout",
     "output_type": "stream",
     "text": [
      "              total        used        free      shared  buff/cache   available\n",
      "Mem:         128610       92867       32099          50        3643       34563\n",
      "Swap:          8191        8191           0\n"
     ]
    }
   ],
   "source": [
    "!free -m"
   ]
  },
  {
   "cell_type": "code",
   "execution_count": 8,
   "id": "a326e22a-919f-4333-a5ff-c4e6a793f9d4",
   "metadata": {},
   "outputs": [
    {
     "name": "stdout",
     "output_type": "stream",
     "text": [
      "Requirement already satisfied: timm in ./rl_env/lib/python3.6/site-packages (0.5.4)\n",
      "Requirement already satisfied: torch>=1.4 in ./rl_env/lib/python3.6/site-packages (from timm) (1.9.0+cu102)\n",
      "Requirement already satisfied: torchvision in ./rl_env/lib/python3.6/site-packages (from timm) (0.10.0+cu102)\n",
      "Requirement already satisfied: dataclasses in ./rl_env/lib/python3.6/site-packages (from torch>=1.4->timm) (0.8)\n",
      "Requirement already satisfied: typing-extensions in ./rl_env/lib/python3.6/site-packages (from torch>=1.4->timm) (4.1.1)\n",
      "Requirement already satisfied: numpy in ./rl_env/lib/python3.6/site-packages (from torchvision->timm) (1.19.5)\n",
      "Requirement already satisfied: pillow>=5.3.0 in ./rl_env/lib/python3.6/site-packages (from torchvision->timm) (8.4.0)\n"
     ]
    }
   ],
   "source": [
    "!pip3 install timm"
   ]
  },
  {
   "cell_type": "code",
   "execution_count": null,
   "id": "888ab8a7-2640-4eeb-8fc1-323265dcafa6",
   "metadata": {},
   "outputs": [],
   "source": [
    "#!wget http://images.cocodataset.org/annotations/annotations_trainval2014.zip -P 'Data/COCO/'"
   ]
  },
  {
   "cell_type": "code",
   "execution_count": 4,
   "id": "410bb4db-3cfd-43d8-93a8-eb350a488924",
   "metadata": {},
   "outputs": [
    {
     "name": "stdout",
     "output_type": "stream",
     "text": [
      "  % Total    % Received % Xferd  Average Speed   Time    Time     Time  Current\n",
      "                                 Dload  Upload   Total   Spent    Left  Speed\n",
      "100  1216  100  1160  100    56  11047    533 --:--:-- --:--:-- --:--:-- 11580\n"
     ]
    }
   ],
   "source": []
  },
  {
   "cell_type": "code",
   "execution_count": null,
   "id": "50a8768f-7d43-479a-8144-bbec5c3e2889",
   "metadata": {},
   "outputs": [],
   "source": []
  }
 ],
 "metadata": {
  "kernelspec": {
   "display_name": "rl_env",
   "language": "python",
   "name": "rl_env"
  },
  "language_info": {
   "codemirror_mode": {
    "name": "ipython",
    "version": 3
   },
   "file_extension": ".py",
   "mimetype": "text/x-python",
   "name": "python",
   "nbconvert_exporter": "python",
   "pygments_lexer": "ipython3",
   "version": "3.6.8"
  }
 },
 "nbformat": 4,
 "nbformat_minor": 5
}
