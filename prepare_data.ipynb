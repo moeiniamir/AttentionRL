{
 "cells": [
  {
   "cell_type": "code",
   "execution_count": 19,
   "metadata": {},
   "outputs": [
    {
     "name": "stdout",
     "output_type": "stream",
     "text": [
      "Collecting wget\n",
      "  Downloading wget-3.2.zip (10 kB)\n",
      "  Preparing metadata (setup.py) ... \u001b[?25ldone\n",
      "\u001b[?25hBuilding wheels for collected packages: wget\n",
      "  Building wheel for wget (setup.py) ... \u001b[?25ldone\n",
      "\u001b[?25h  Created wheel for wget: filename=wget-3.2-py3-none-any.whl size=9675 sha256=9ab288c1084ab50565d83154335bad800fe59f3de53b8006f22a24862bca2d89\n",
      "  Stored in directory: /home/behnamnia/.cache/pip/wheels/90/1d/93/c863ee832230df5cfc25ca497b3e88e0ee3ea9e44adc46ac62\n",
      "Successfully built wget\n",
      "Installing collected packages: wget\n",
      "Successfully installed wget-3.2\n"
     ]
    }
   ],
   "source": [
    "!pip3 install wget"
   ]
  },
  {
   "cell_type": "code",
   "execution_count": 42,
   "metadata": {},
   "outputs": [
    {
     "name": "stdout",
     "output_type": "stream",
     "text": [
      "Collecting grad-cam\n",
      "  Downloading grad-cam-1.4.6.tar.gz (7.8 MB)\n",
      "     |████████████████████████████████| 7.8 MB 6.0 MB/s            �█████████████████████████▌    | 6.7 MB 6.0 MB/s eta 0:00:01\n",
      "\u001b[?25h  Installing build dependencies ... \u001b[?25ldone\n",
      "\u001b[?25h  Getting requirements to build wheel ... \u001b[?25ldone\n",
      "\u001b[?25h  Preparing metadata (pyproject.toml) ... \u001b[?25ldone\n",
      "\u001b[?25hCollecting opencv-python\n",
      "  Using cached opencv_python-4.6.0.66-cp36-abi3-manylinux_2_17_x86_64.manylinux2014_x86_64.whl (60.9 MB)\n",
      "Collecting ttach\n",
      "  Downloading ttach-0.0.3-py3-none-any.whl (9.8 kB)\n",
      "Requirement already satisfied: matplotlib in ./rl_env/lib/python3.6/site-packages (from grad-cam) (3.3.4)\n",
      "Requirement already satisfied: tqdm in ./rl_env/lib/python3.6/site-packages (from grad-cam) (4.64.1)\n",
      "Requirement already satisfied: torch>=1.7.1 in ./rl_env/lib/python3.6/site-packages (from grad-cam) (1.9.0+cu102)\n",
      "Requirement already satisfied: numpy in ./rl_env/lib/python3.6/site-packages (from grad-cam) (1.19.5)\n",
      "Requirement already satisfied: scikit-learn in ./rl_env/lib/python3.6/site-packages (from grad-cam) (0.24.2)\n",
      "Requirement already satisfied: Pillow in ./rl_env/lib/python3.6/site-packages (from grad-cam) (8.4.0)\n",
      "Requirement already satisfied: torchvision>=0.8.2 in ./rl_env/lib/python3.6/site-packages (from grad-cam) (0.10.0+cu102)\n",
      "Requirement already satisfied: typing-extensions in ./rl_env/lib/python3.6/site-packages (from torch>=1.7.1->grad-cam) (4.1.1)\n",
      "Requirement already satisfied: dataclasses in ./rl_env/lib/python3.6/site-packages (from torch>=1.7.1->grad-cam) (0.8)\n",
      "Requirement already satisfied: cycler>=0.10 in ./rl_env/lib/python3.6/site-packages (from matplotlib->grad-cam) (0.11.0)\n",
      "Requirement already satisfied: pyparsing!=2.0.4,!=2.1.2,!=2.1.6,>=2.0.3 in ./rl_env/lib/python3.6/site-packages (from matplotlib->grad-cam) (3.0.9)\n",
      "Requirement already satisfied: kiwisolver>=1.0.1 in ./rl_env/lib/python3.6/site-packages (from matplotlib->grad-cam) (1.3.1)\n",
      "Requirement already satisfied: python-dateutil>=2.1 in ./rl_env/lib/python3.6/site-packages (from matplotlib->grad-cam) (2.8.2)\n",
      "Requirement already satisfied: scipy>=0.19.1 in ./rl_env/lib/python3.6/site-packages (from scikit-learn->grad-cam) (1.5.4)\n",
      "Requirement already satisfied: threadpoolctl>=2.0.0 in ./rl_env/lib/python3.6/site-packages (from scikit-learn->grad-cam) (3.1.0)\n",
      "Requirement already satisfied: joblib>=0.11 in ./rl_env/lib/python3.6/site-packages (from scikit-learn->grad-cam) (1.1.0)\n",
      "Requirement already satisfied: importlib-resources in ./rl_env/lib/python3.6/site-packages (from tqdm->grad-cam) (5.4.0)\n",
      "Requirement already satisfied: six>=1.5 in ./rl_env/lib/python3.6/site-packages (from python-dateutil>=2.1->matplotlib->grad-cam) (1.16.0)\n",
      "Requirement already satisfied: zipp>=3.1.0 in ./rl_env/lib/python3.6/site-packages (from importlib-resources->tqdm->grad-cam) (3.6.0)\n",
      "Building wheels for collected packages: grad-cam\n",
      "  Building wheel for grad-cam (pyproject.toml) ... \u001b[?25ldone\n",
      "\u001b[?25h  Created wheel for grad-cam: filename=grad_cam-1.4.6-py3-none-any.whl size=38261 sha256=e1d5e4a42de08624e424f71e628b08c74d7321a0c439af56feb5164d3e69c2b0\n",
      "  Stored in directory: /home/behnamnia/.cache/pip/wheels/7d/93/fd/97ae473b61d31f60a8a7ba625c6ede11ab00d63156fc47408c\n",
      "Successfully built grad-cam\n",
      "Installing collected packages: ttach, opencv-python, grad-cam\n",
      "Successfully installed grad-cam-1.4.6 opencv-python-4.6.0.66 ttach-0.0.3\n"
     ]
    }
   ],
   "source": [
    "!pip3 install grad-cam"
   ]
  },
  {
   "cell_type": "code",
   "execution_count": 99,
   "metadata": {},
   "outputs": [
    {
     "name": "stdout",
     "output_type": "stream",
     "text": [
      "Collecting einops\n",
      "  Using cached einops-0.4.1-py3-none-any.whl (28 kB)\n",
      "Installing collected packages: einops\n",
      "Successfully installed einops-0.4.1\n"
     ]
    }
   ],
   "source": [
    "!pip3 install einops"
   ]
  },
  {
   "cell_type": "code",
   "execution_count": null,
   "metadata": {
    "tags": []
   },
   "outputs": [],
   "source": [
    "#!unzip Data/COCO17/train2017.zip.1 -d Data/COCO17/"
   ]
  },
  {
   "cell_type": "code",
   "execution_count": 1,
   "metadata": {
    "tags": []
   },
   "outputs": [],
   "source": [
    "import json\n",
    "from pycocotools.coco import COCO\n",
    "from pytorch_grad_cam import GradCAM\n",
    "from pytorch_grad_cam.utils.model_targets import ClassifierOutputTarget\n",
    "from pytorch_grad_cam.utils.image import show_cam_on_image\n",
    "from torchvision import transforms\n",
    "import wget\n",
    "import os\n",
    "import timm\n",
    "from PIL import Image\n",
    "import numpy as np\n",
    "import matplotlib.pyplot as plt\n",
    "import einops\n",
    "import torch\n",
    "import torch.nn as nn\n",
    "from transformers import GPT2Config, GPT2LMHeadModel\n",
    "from tokenizers import ByteLevelBPETokenizer\n",
    "from torch.utils.data import DataLoader\n",
    "from tqdm import tqdm\n",
    "import re\n",
    "from nltk.stem.wordnet import WordNetLemmatizer\n",
    "import math\n",
    "from time import time\n",
    "from dataloader import COCODataset\n",
    "from torch.multiprocessing import set_start_method"
   ]
  },
  {
   "cell_type": "code",
   "execution_count": 2,
   "metadata": {},
   "outputs": [],
   "source": [
    "import nltk"
   ]
  },
  {
   "cell_type": "markdown",
   "metadata": {},
   "source": [
    "# Prepare data"
   ]
  },
  {
   "cell_type": "code",
   "execution_count": 3,
   "metadata": {},
   "outputs": [
    {
     "name": "stdout",
     "output_type": "stream",
     "text": [
      "Thu Dec 15 05:13:28 2022       \n",
      "+-----------------------------------------------------------------------------+\n",
      "| NVIDIA-SMI 440.64       Driver Version: 440.64       CUDA Version: 10.2     |\n",
      "|-------------------------------+----------------------+----------------------+\n",
      "| GPU  Name        Persistence-M| Bus-Id        Disp.A | Volatile Uncorr. ECC |\n",
      "| Fan  Temp  Perf  Pwr:Usage/Cap|         Memory-Usage | GPU-Util  Compute M. |\n",
      "|===============================+======================+======================|\n",
      "|   0  GeForce GTX 108...  Off  | 00000000:17:00.0 Off |                  N/A |\n",
      "|  0%   32C    P8    12W / 250W |     10MiB / 11178MiB |      0%      Default |\n",
      "+-------------------------------+----------------------+----------------------+\n",
      "|   1  GeForce GTX 108...  Off  | 00000000:65:00.0 Off |                  N/A |\n",
      "|  0%   33C    P8    19W / 250W |     10MiB / 11175MiB |      0%      Default |\n",
      "+-------------------------------+----------------------+----------------------+\n",
      "                                                                               \n",
      "+-----------------------------------------------------------------------------+\n",
      "| Processes:                                                       GPU Memory |\n",
      "|  GPU       PID   Type   Process name                             Usage      |\n",
      "|=============================================================================|\n",
      "|  No running processes found                                                 |\n",
      "+-----------------------------------------------------------------------------+\n"
     ]
    }
   ],
   "source": [
    "!nvidia-smi"
   ]
  },
  {
   "cell_type": "code",
   "execution_count": 26,
   "metadata": {},
   "outputs": [],
   "source": [
    "MAX_SEQ_LENGTH = 32\n",
    "BATCH_SIZE = 64\n",
    "EOS_ID = 2\n",
    "BOS_ID = 0"
   ]
  },
  {
   "cell_type": "code",
   "execution_count": 27,
   "metadata": {},
   "outputs": [],
   "source": [
    "captions = json.load(open('Data/COCO17/cap_dict.json', 'r'))"
   ]
  },
  {
   "cell_type": "code",
   "execution_count": 28,
   "metadata": {},
   "outputs": [
    {
     "data": {
      "text/plain": [
       "118287"
      ]
     },
     "execution_count": 28,
     "metadata": {},
     "output_type": "execute_result"
    }
   ],
   "source": [
    "len(captions)"
   ]
  },
  {
   "cell_type": "code",
   "execution_count": 29,
   "metadata": {},
   "outputs": [],
   "source": [
    "small_idx = set(sorted(list(captions.keys()))[:1000])"
   ]
  },
  {
   "cell_type": "code",
   "execution_count": 30,
   "metadata": {},
   "outputs": [],
   "source": [
    "small_captions = {int(k):v for k, v in captions.items() if k in small_idx}"
   ]
  },
  {
   "cell_type": "code",
   "execution_count": 31,
   "metadata": {},
   "outputs": [
    {
     "name": "stdout",
     "output_type": "stream",
     "text": [
      "loading annotations into memory...\n",
      "Done (t=0.69s)\n",
      "creating index...\n",
      "index created!\n"
     ]
    }
   ],
   "source": [
    "orig = COCO('Data/COCO17/captions_train2017.json')"
   ]
  },
  {
   "cell_type": "code",
   "execution_count": 32,
   "metadata": {},
   "outputs": [],
   "source": [
    "images = orig.loadImgs(sorted(list(small_captions.keys())))"
   ]
  },
  {
   "cell_type": "code",
   "execution_count": 33,
   "metadata": {},
   "outputs": [
    {
     "data": {
      "text/plain": [
       "{'license': 2,\n",
       " 'file_name': '000000001006.jpg',\n",
       " 'coco_url': 'http://images.cocodataset.org/train2017/000000001006.jpg',\n",
       " 'height': 640,\n",
       " 'width': 427,\n",
       " 'date_captured': '2013-11-24 06:05:29',\n",
       " 'flickr_url': 'http://farm8.staticflickr.com/7016/6665190797_9f64902255_z.jpg',\n",
       " 'id': 1006}"
      ]
     },
     "execution_count": 33,
     "metadata": {},
     "output_type": "execute_result"
    }
   ],
   "source": [
    "images[0]"
   ]
  },
  {
   "cell_type": "code",
   "execution_count": 34,
   "metadata": {
    "tags": []
   },
   "outputs": [],
   "source": [
    "# for item in images:\n",
    "#     if not os.path.exists(os.path.join('Data/COCO17/images/', item['file_name'])):\n",
    "#         wget.download(item['coco_url'], out='Data/COCO17/images/')\n",
    "#         print(f'image {item[\"file_name\"]} downloaded.')"
   ]
  },
  {
   "cell_type": "code",
   "execution_count": 35,
   "metadata": {},
   "outputs": [],
   "source": [
    "# class COCODataset:\n",
    "#     def __init__(self, cap_dict, image_info, image_path):\n",
    "#         self.cap_dict = cap_dict\n",
    "#         self.index = sorted(list(self.cap_dict.keys()))\n",
    "#         self.index_set = set(self.index)\n",
    "#         self.image_id2name = dict()\n",
    "#         for item in image_info:\n",
    "#             if item['id'] in self.index_set:\n",
    "#                 self.image_id2name[item['id']] = item['file_name']\n",
    "#         self.image_files = [os.path.join(image_path, self.image_id2name[item]) for item in self.index]\n",
    "#         self.transform = transforms.Compose([\n",
    "#             transforms.ToTensor(),\n",
    "#             transforms.Normalize(mean = [0.485, 0.456, 0.406], \n",
    "#                                  std = [0.229, 0.224, 0.225])\n",
    "#         ])\n",
    "#     def __getitem__(self, idx):\n",
    "#         image = Image.open(self.image_files[idx]).convert('RGB')\n",
    "#         captions = self.cap_dict[self.index[idx]]\n",
    "#         return image, captions\n",
    "    \n",
    "#     def __len__(self):\n",
    "#         return len(self.index)"
   ]
  },
  {
   "cell_type": "code",
   "execution_count": 36,
   "metadata": {},
   "outputs": [],
   "source": [
    "dataset = COCODataset(small_captions, images, 'Data/COCO17/train2017/')"
   ]
  },
  {
   "cell_type": "code",
   "execution_count": 37,
   "metadata": {},
   "outputs": [],
   "source": [
    "# for i in range(len(dataset)):\n",
    "#     image, captions = dataset[i]"
   ]
  },
  {
   "cell_type": "markdown",
   "metadata": {},
   "source": [
    "# Image feature extractor"
   ]
  },
  {
   "cell_type": "code",
   "execution_count": 38,
   "metadata": {},
   "outputs": [],
   "source": [
    "device = 'cuda:0'"
   ]
  },
  {
   "cell_type": "code",
   "execution_count": 39,
   "metadata": {},
   "outputs": [],
   "source": [
    "grid_size = [64, 64]"
   ]
  },
  {
   "cell_type": "code",
   "execution_count": 40,
   "metadata": {
    "tags": []
   },
   "outputs": [],
   "source": [
    "m = timm.create_model('efficientnet_b0', pretrained=True).to(device)\n",
    "_ = m.eval()\n",
    "_ = m.to(device)"
   ]
  },
  {
   "cell_type": "code",
   "execution_count": 41,
   "metadata": {},
   "outputs": [],
   "source": [
    "cam = GradCAM(model=m, target_layers=[m.blocks[6][-1]], use_cuda=True)"
   ]
  },
  {
   "cell_type": "code",
   "execution_count": 42,
   "metadata": {},
   "outputs": [],
   "source": [
    "# def select_patches(image, device):\n",
    "#     image_array = np.array(image)\n",
    "#     h, w, _ = image_array.shape\n",
    "#     W = ((w + grid_size[0] - 1) // grid_size[0]) * grid_size[0] \n",
    "#     H = ((h + grid_size[1] - 1) // grid_size[1]) * grid_size[1]\n",
    "#     image_array = np.pad(image_array, [((H-h)//2, (H-h)-(H-h)//2), ((W-w)//2, (W-w)-(W-w)//2), (0, 0)], mode='linear_ramp')\n",
    "#     image = Image.fromarray(image_array)\n",
    "#     res = cam(input_tensor=dataset.transform(image).unsqueeze(0).to(device), targets=None)\n",
    "#     res = res.squeeze()\n",
    "#     image_grids = einops.rearrange(image_array, '(N h) (M w) C -> N M h w C', h=grid_size[1], w=grid_size[0])\n",
    "#     res_grids = einops.rearrange(res, '(N h) (M w) -> N M h w', h=grid_size[1], w=grid_size[0])\n",
    "#     u = np.mean(res_grids, axis=(-1, -2))\n",
    "#     u /= np.sum(u)\n",
    "#     choices = np.random.choice(range(u.size), p = u.flatten(), size = 5, replace=False)\n",
    "#     x, y = choices // u.shape[1], choices % u.shape[1]\n",
    "#     candidate_grids = image_grids[x, y, :, :]\n",
    "#     candidate_grids = candidate_grids / 255\n",
    "#     candidate_grids = (candidate_grids - np.array([[[[0.485, 0.456, 0.406]]]])) / np.array([[[[0.229, 0.224, 0.225]]]])\n",
    "#     m_input = einops.rearrange(torch.tensor(candidate_grids), 'N H W C -> N C H W').float()\n",
    "#     return m_input"
   ]
  },
  {
   "cell_type": "code",
   "execution_count": 43,
   "metadata": {},
   "outputs": [],
   "source": [
    "dataset.cam = cam\n",
    "dataset.device = device"
   ]
  },
  {
   "cell_type": "code",
   "execution_count": 44,
   "metadata": {
    "tags": []
   },
   "outputs": [],
   "source": [
    "# u, v = 1000, 1000\n",
    "# u2, v2 = 100, 100\n",
    "# for img, cap in dataset:\n",
    "#     print(img.shape)\n",
    "    # u, v = min(u, img.height), min(v, img.width)\n",
    "    # u2, v2 = max(u2, img.height), max(v2, img.width)\n",
    "# print(u, v)\n",
    "# print(u2, v2)"
   ]
  },
  {
   "cell_type": "code",
   "execution_count": 45,
   "metadata": {
    "tags": []
   },
   "outputs": [],
   "source": [
    "# now = time()\n",
    "# for i in range(100):\n",
    "#     image, caption = dataset[0]\n",
    "#     res = cam(input_tensor=image.to(device).unsqueeze(0), targets=None)\n",
    "# print((time() - now)/100)"
   ]
  },
  {
   "cell_type": "code",
   "execution_count": 46,
   "metadata": {},
   "outputs": [],
   "source": [
    "dataloader = DataLoader(dataset, batch_size=BATCH_SIZE, num_workers=8, collate_fn=dataset.collate_fn, shuffle=True)"
   ]
  },
  {
   "cell_type": "code",
   "execution_count": 52,
   "metadata": {
    "tags": []
   },
   "outputs": [
    {
     "name": "stdout",
     "output_type": "stream",
     "text": [
      "torch.Size([64, 5, 3, 64, 64])\n",
      "torch.Size([64, 5, 3, 64, 64])\n",
      "torch.Size([64, 5, 3, 64, 64])\n",
      "torch.Size([64, 5, 3, 64, 64])\n",
      "torch.Size([64, 5, 3, 64, 64])\n",
      "torch.Size([64, 5, 3, 64, 64])\n",
      "torch.Size([64, 5, 3, 64, 64])\n",
      "torch.Size([64, 5, 3, 64, 64])\n",
      "torch.Size([64, 5, 3, 64, 64])\n",
      "torch.Size([64, 5, 3, 64, 64])\n",
      "0.008733260631561279\n"
     ]
    }
   ],
   "source": [
    "now = time()\n",
    "c = 0\n",
    "for item in dataloader:\n",
    "    x = dataset.patch_batch(*item)\n",
    "    c += 1\n",
    "    print(x['patched_images'].shape)\n",
    "    if c >= 10:\n",
    "        break\n",
    "print((time() - now) / (BATCH_SIZE * 10))"
   ]
  },
  {
   "cell_type": "code",
   "execution_count": 50,
   "metadata": {},
   "outputs": [
    {
     "data": {
      "text/plain": [
       "15.733333333333333"
      ]
     },
     "execution_count": 50,
     "metadata": {},
     "output_type": "execute_result"
    }
   ],
   "source": [
    "0.008 * 118000 / 60"
   ]
  },
  {
   "cell_type": "code",
   "execution_count": 26,
   "metadata": {},
   "outputs": [
    {
     "ename": "TypeError",
     "evalue": "Cannot handle this data type: (1, 1, 448), <f4",
     "output_type": "error",
     "traceback": [
      "\u001b[0;31m---------------------------------------------------------------------------\u001b[0m",
      "\u001b[0;31mKeyError\u001b[0m                                  Traceback (most recent call last)",
      "\u001b[0;32m/media/external_10TB/10TB/Behnamnia/AttentionRL/rl_env/lib/python3.6/site-packages/PIL/Image.py\u001b[0m in \u001b[0;36mfromarray\u001b[0;34m(obj, mode)\u001b[0m\n\u001b[1;32m   2834\u001b[0m         \u001b[0;32mtry\u001b[0m\u001b[0;34m:\u001b[0m\u001b[0;34m\u001b[0m\u001b[0;34m\u001b[0m\u001b[0m\n\u001b[0;32m-> 2835\u001b[0;31m             \u001b[0mmode\u001b[0m\u001b[0;34m,\u001b[0m \u001b[0mrawmode\u001b[0m \u001b[0;34m=\u001b[0m \u001b[0m_fromarray_typemap\u001b[0m\u001b[0;34m[\u001b[0m\u001b[0mtypekey\u001b[0m\u001b[0;34m]\u001b[0m\u001b[0;34m\u001b[0m\u001b[0;34m\u001b[0m\u001b[0m\n\u001b[0m\u001b[1;32m   2836\u001b[0m         \u001b[0;32mexcept\u001b[0m \u001b[0mKeyError\u001b[0m \u001b[0;32mas\u001b[0m \u001b[0me\u001b[0m\u001b[0;34m:\u001b[0m\u001b[0;34m\u001b[0m\u001b[0;34m\u001b[0m\u001b[0m\n",
      "\u001b[0;31mKeyError\u001b[0m: ((1, 1, 448), '<f4')",
      "\nThe above exception was the direct cause of the following exception:\n",
      "\u001b[0;31mTypeError\u001b[0m                                 Traceback (most recent call last)",
      "\u001b[0;32m<ipython-input-26-2aae2d1591b9>\u001b[0m in \u001b[0;36m<module>\u001b[0;34m\u001b[0m\n\u001b[1;32m      5\u001b[0m \u001b[0mH\u001b[0m \u001b[0;34m=\u001b[0m \u001b[0;34m(\u001b[0m\u001b[0;34m(\u001b[0m\u001b[0mh\u001b[0m \u001b[0;34m+\u001b[0m \u001b[0mgrid_size\u001b[0m\u001b[0;34m[\u001b[0m\u001b[0;36m1\u001b[0m\u001b[0;34m]\u001b[0m \u001b[0;34m-\u001b[0m \u001b[0;36m1\u001b[0m\u001b[0;34m)\u001b[0m \u001b[0;34m//\u001b[0m \u001b[0mgrid_size\u001b[0m\u001b[0;34m[\u001b[0m\u001b[0;36m1\u001b[0m\u001b[0;34m]\u001b[0m\u001b[0;34m)\u001b[0m \u001b[0;34m*\u001b[0m \u001b[0mgrid_size\u001b[0m\u001b[0;34m[\u001b[0m\u001b[0;36m1\u001b[0m\u001b[0;34m]\u001b[0m\u001b[0;34m\u001b[0m\u001b[0;34m\u001b[0m\u001b[0m\n\u001b[1;32m      6\u001b[0m \u001b[0mimage_array\u001b[0m \u001b[0;34m=\u001b[0m \u001b[0mnp\u001b[0m\u001b[0;34m.\u001b[0m\u001b[0mpad\u001b[0m\u001b[0;34m(\u001b[0m\u001b[0mimage_array\u001b[0m\u001b[0;34m,\u001b[0m \u001b[0;34m[\u001b[0m\u001b[0;34m(\u001b[0m\u001b[0;34m(\u001b[0m\u001b[0mH\u001b[0m\u001b[0;34m-\u001b[0m\u001b[0mh\u001b[0m\u001b[0;34m)\u001b[0m\u001b[0;34m//\u001b[0m\u001b[0;36m2\u001b[0m\u001b[0;34m,\u001b[0m \u001b[0;34m(\u001b[0m\u001b[0mH\u001b[0m\u001b[0;34m-\u001b[0m\u001b[0mh\u001b[0m\u001b[0;34m)\u001b[0m\u001b[0;34m-\u001b[0m\u001b[0;34m(\u001b[0m\u001b[0mH\u001b[0m\u001b[0;34m-\u001b[0m\u001b[0mh\u001b[0m\u001b[0;34m)\u001b[0m\u001b[0;34m//\u001b[0m\u001b[0;36m2\u001b[0m\u001b[0;34m)\u001b[0m\u001b[0;34m,\u001b[0m \u001b[0;34m(\u001b[0m\u001b[0;34m(\u001b[0m\u001b[0mW\u001b[0m\u001b[0;34m-\u001b[0m\u001b[0mw\u001b[0m\u001b[0;34m)\u001b[0m\u001b[0;34m//\u001b[0m\u001b[0;36m2\u001b[0m\u001b[0;34m,\u001b[0m \u001b[0;34m(\u001b[0m\u001b[0mW\u001b[0m\u001b[0;34m-\u001b[0m\u001b[0mw\u001b[0m\u001b[0;34m)\u001b[0m\u001b[0;34m-\u001b[0m\u001b[0;34m(\u001b[0m\u001b[0mW\u001b[0m\u001b[0;34m-\u001b[0m\u001b[0mw\u001b[0m\u001b[0;34m)\u001b[0m\u001b[0;34m//\u001b[0m\u001b[0;36m2\u001b[0m\u001b[0;34m)\u001b[0m\u001b[0;34m,\u001b[0m \u001b[0;34m(\u001b[0m\u001b[0;36m0\u001b[0m\u001b[0;34m,\u001b[0m \u001b[0;36m0\u001b[0m\u001b[0;34m)\u001b[0m\u001b[0;34m]\u001b[0m\u001b[0;34m,\u001b[0m \u001b[0mmode\u001b[0m\u001b[0;34m=\u001b[0m\u001b[0;34m'linear_ramp'\u001b[0m\u001b[0;34m)\u001b[0m\u001b[0;34m\u001b[0m\u001b[0;34m\u001b[0m\u001b[0m\n\u001b[0;32m----> 7\u001b[0;31m \u001b[0mimage\u001b[0m \u001b[0;34m=\u001b[0m \u001b[0mImage\u001b[0m\u001b[0;34m.\u001b[0m\u001b[0mfromarray\u001b[0m\u001b[0;34m(\u001b[0m\u001b[0mimage_array\u001b[0m\u001b[0;34m)\u001b[0m\u001b[0;34m\u001b[0m\u001b[0;34m\u001b[0m\u001b[0m\n\u001b[0m\u001b[1;32m      8\u001b[0m \u001b[0mres\u001b[0m \u001b[0;34m=\u001b[0m \u001b[0mcam\u001b[0m\u001b[0;34m(\u001b[0m\u001b[0minput_tensor\u001b[0m\u001b[0;34m=\u001b[0m\u001b[0mdataset\u001b[0m\u001b[0;34m.\u001b[0m\u001b[0mtransform\u001b[0m\u001b[0;34m(\u001b[0m\u001b[0mimage\u001b[0m\u001b[0;34m)\u001b[0m\u001b[0;34m.\u001b[0m\u001b[0munsqueeze\u001b[0m\u001b[0;34m(\u001b[0m\u001b[0;36m0\u001b[0m\u001b[0;34m)\u001b[0m\u001b[0;34m,\u001b[0m \u001b[0mtargets\u001b[0m\u001b[0;34m=\u001b[0m\u001b[0;32mNone\u001b[0m\u001b[0;34m)\u001b[0m\u001b[0;34m\u001b[0m\u001b[0;34m\u001b[0m\u001b[0m\n",
      "\u001b[0;32m/media/external_10TB/10TB/Behnamnia/AttentionRL/rl_env/lib/python3.6/site-packages/PIL/Image.py\u001b[0m in \u001b[0;36mfromarray\u001b[0;34m(obj, mode)\u001b[0m\n\u001b[1;32m   2835\u001b[0m             \u001b[0mmode\u001b[0m\u001b[0;34m,\u001b[0m \u001b[0mrawmode\u001b[0m \u001b[0;34m=\u001b[0m \u001b[0m_fromarray_typemap\u001b[0m\u001b[0;34m[\u001b[0m\u001b[0mtypekey\u001b[0m\u001b[0;34m]\u001b[0m\u001b[0;34m\u001b[0m\u001b[0;34m\u001b[0m\u001b[0m\n\u001b[1;32m   2836\u001b[0m         \u001b[0;32mexcept\u001b[0m \u001b[0mKeyError\u001b[0m \u001b[0;32mas\u001b[0m \u001b[0me\u001b[0m\u001b[0;34m:\u001b[0m\u001b[0;34m\u001b[0m\u001b[0;34m\u001b[0m\u001b[0m\n\u001b[0;32m-> 2837\u001b[0;31m             \u001b[0;32mraise\u001b[0m \u001b[0mTypeError\u001b[0m\u001b[0;34m(\u001b[0m\u001b[0;34m\"Cannot handle this data type: %s, %s\"\u001b[0m \u001b[0;34m%\u001b[0m \u001b[0mtypekey\u001b[0m\u001b[0;34m)\u001b[0m \u001b[0;32mfrom\u001b[0m \u001b[0me\u001b[0m\u001b[0;34m\u001b[0m\u001b[0;34m\u001b[0m\u001b[0m\n\u001b[0m\u001b[1;32m   2838\u001b[0m     \u001b[0;32melse\u001b[0m\u001b[0;34m:\u001b[0m\u001b[0;34m\u001b[0m\u001b[0;34m\u001b[0m\u001b[0m\n\u001b[1;32m   2839\u001b[0m         \u001b[0mrawmode\u001b[0m \u001b[0;34m=\u001b[0m \u001b[0mmode\u001b[0m\u001b[0;34m\u001b[0m\u001b[0;34m\u001b[0m\u001b[0m\n",
      "\u001b[0;31mTypeError\u001b[0m: Cannot handle this data type: (1, 1, 448), <f4"
     ]
    }
   ],
   "source": [
    "image, caption = dataset[0]\n",
    "image_array = np.array(image)\n",
    "h, w, _ = image_array.shape\n",
    "W = ((w + grid_size[0] - 1) // grid_size[0]) * grid_size[0] \n",
    "H = ((h + grid_size[1] - 1) // grid_size[1]) * grid_size[1]\n",
    "image_array = np.pad(image_array, [((H-h)//2, (H-h)-(H-h)//2), ((W-w)//2, (W-w)-(W-w)//2), (0, 0)], mode='linear_ramp')\n",
    "image = Image.fromarray(image_array)\n",
    "res = cam(input_tensor=dataset.transform(image).unsqueeze(0), targets=None)"
   ]
  },
  {
   "cell_type": "code",
   "execution_count": null,
   "metadata": {},
   "outputs": [],
   "source": [
    "res = res.squeeze()"
   ]
  },
  {
   "cell_type": "code",
   "execution_count": null,
   "metadata": {},
   "outputs": [],
   "source": [
    "visualization = show_cam_on_image(image_array / 255, res, use_rgb=True)"
   ]
  },
  {
   "cell_type": "code",
   "execution_count": 35,
   "metadata": {},
   "outputs": [
    {
     "data": {
      "text/plain": [
       "((640, 448, 3), (640, 448))"
      ]
     },
     "execution_count": 35,
     "metadata": {},
     "output_type": "execute_result"
    }
   ],
   "source": [
    "visualization.shape, res.shape"
   ]
  },
  {
   "cell_type": "code",
   "execution_count": 36,
   "metadata": {},
   "outputs": [
    {
     "data": {
      "text/plain": [
       "<matplotlib.image.AxesImage at 0x7f288a6a9da0>"
      ]
     },
     "execution_count": 36,
     "metadata": {},
     "output_type": "execute_result"
    },
    {
     "data": {
      "image/png": "[encoded data removed]",
      "text/plain": [
       "<Figure size 432x288 with 1 Axes>"
      ]
     },
     "metadata": {
      "needs_background": "light"
     },
     "output_type": "display_data"
    }
   ],
   "source": [
    "plt.imshow(visualization)"
   ]
  },
  {
   "cell_type": "code",
   "execution_count": 37,
   "metadata": {},
   "outputs": [
    {
     "data": {
      "text/plain": [
       "(0.9999999, 0.0)"
      ]
     },
     "execution_count": 37,
     "metadata": {},
     "output_type": "execute_result"
    }
   ],
   "source": [
    "np.max(res), np.min(res)"
   ]
  },
  {
   "cell_type": "code",
   "execution_count": 38,
   "metadata": {},
   "outputs": [],
   "source": [
    "image_grids = einops.rearrange(image_array, '(N h) (M w) C -> N M h w C', h=grid_size[1], w=grid_size[0])"
   ]
  },
  {
   "cell_type": "code",
   "execution_count": 39,
   "metadata": {},
   "outputs": [
    {
     "data": {
      "text/plain": [
       "(10, 7, 64, 64, 3)"
      ]
     },
     "execution_count": 39,
     "metadata": {},
     "output_type": "execute_result"
    }
   ],
   "source": [
    "image_grids.shape"
   ]
  },
  {
   "cell_type": "code",
   "execution_count": 40,
   "metadata": {},
   "outputs": [],
   "source": [
    "res_grids = einops.rearrange(res, '(N h) (M w) -> N M h w', h=grid_size[1], w=grid_size[0])"
   ]
  },
  {
   "cell_type": "code",
   "execution_count": 41,
   "metadata": {},
   "outputs": [],
   "source": [
    "u = np.mean(res_grids, axis=(-1, -2))\n",
    "u /= np.sum(u)"
   ]
  },
  {
   "cell_type": "code",
   "execution_count": 42,
   "metadata": {},
   "outputs": [
    {
     "data": {
      "text/plain": [
       "array([[0.01533185, 0.01238779, 0.01153142, 0.01284688, 0.01180775,\n",
       "        0.01061249, 0.01195522],\n",
       "       [0.01263361, 0.01191647, 0.01365117, 0.02952805, 0.02055638,\n",
       "        0.0018976 , 0.01046598],\n",
       "       [0.01318472, 0.01461934, 0.02195866, 0.0343519 , 0.02009482,\n",
       "        0.00610576, 0.0116721 ],\n",
       "       [0.01483528, 0.01752818, 0.02228061, 0.02333656, 0.02053159,\n",
       "        0.01571411, 0.01461631],\n",
       "       [0.01078354, 0.01395514, 0.02048735, 0.02119528, 0.01784586,\n",
       "        0.01105178, 0.01113321],\n",
       "       [0.01089591, 0.01267491, 0.01857121, 0.0157383 , 0.01718051,\n",
       "        0.00868966, 0.01070869],\n",
       "       [0.01127425, 0.01101526, 0.01555518, 0.01330266, 0.01371009,\n",
       "        0.01027882, 0.01251331],\n",
       "       [0.01315639, 0.0141622 , 0.01445113, 0.01325878, 0.01302586,\n",
       "        0.01180685, 0.01286014],\n",
       "       [0.01243255, 0.01191365, 0.01237496, 0.0089326 , 0.01406723,\n",
       "        0.01286083, 0.01164803],\n",
       "       [0.01210781, 0.01190427, 0.01468889, 0.01630871, 0.01585886,\n",
       "        0.01329209, 0.01237451]], dtype=float32)"
      ]
     },
     "execution_count": 42,
     "metadata": {},
     "output_type": "execute_result"
    }
   ],
   "source": [
    "u"
   ]
  },
  {
   "cell_type": "code",
   "execution_count": 43,
   "metadata": {},
   "outputs": [],
   "source": [
    "choices = np.random.choice(range(u.size), p = u.flatten(), size = 5, replace=False)"
   ]
  },
  {
   "cell_type": "code",
   "execution_count": 44,
   "metadata": {},
   "outputs": [],
   "source": [
    "x, y = choices // u.shape[1], choices % u.shape[1]"
   ]
  },
  {
   "cell_type": "code",
   "execution_count": 45,
   "metadata": {},
   "outputs": [],
   "source": [
    "candidate_grids = image_grids[x, y, :, :]"
   ]
  },
  {
   "cell_type": "code",
   "execution_count": 46,
   "metadata": {},
   "outputs": [],
   "source": [
    "candidate_grids = candidate_grids / 255\n",
    "candidate_grids = (candidate_grids - np.array([[[[0.485, 0.456, 0.406]]]])) / np.array([[[[0.229, 0.224, 0.225]]]])\n",
    "m_input = einops.rearrange(torch.tensor(candidate_grids), 'N H W C -> N C H W').float()"
   ]
  },
  {
   "cell_type": "code",
   "execution_count": 47,
   "metadata": {},
   "outputs": [],
   "source": [
    "with torch.no_grad():\n",
    "    features = torch.mean(m.forward_features(m_input.to(device)), dim=(-1, -2))"
   ]
  },
  {
   "cell_type": "code",
   "execution_count": 48,
   "metadata": {},
   "outputs": [
    {
     "data": {
      "text/plain": [
       "torch.Size([5, 1280])"
      ]
     },
     "execution_count": 48,
     "metadata": {},
     "output_type": "execute_result"
    }
   ],
   "source": [
    "features.shape"
   ]
  },
  {
   "cell_type": "markdown",
   "metadata": {},
   "source": [
    "# Prepare tokenizer "
   ]
  },
  {
   "cell_type": "code",
   "execution_count": 49,
   "metadata": {},
   "outputs": [],
   "source": [
    "tokenizer = ByteLevelBPETokenizer()\n",
    "tokenizer.train(files='Data/COCO17/all_text.txt', vocab_size=10_000, min_frequency=2, special_tokens=[\n",
    "    \"<s>\",\n",
    "    \"<pad>\",\n",
    "    \"</s>\",\n",
    "    \"<unk>\",\n",
    "    \"<mask>\",\n",
    "])"
   ]
  },
  {
   "cell_type": "code",
   "execution_count": 50,
   "metadata": {},
   "outputs": [],
   "source": [
    "def caption2batch(captions, max_seq_length=MAX_SEQ_LENGTH):\n",
    "    pad_id = tokenizer.encode('<pad>').ids[0]\n",
    "    all_in = []\n",
    "    all_out = []\n",
    "    attention_mask = []\n",
    "    max_tokens = 0\n",
    "    for caption in captions:\n",
    "        x_in = tokenizer.encode('<s>' + caption).ids\n",
    "        x_out = tokenizer.encode(caption + '</s>').ids\n",
    "        if len(x_in) > max_seq_length:\n",
    "            x_in = [x_in[0]] + x_in[1:max_seq_length]\n",
    "            x_out = x_out[:max_seq_length-1] + [x_out[-1]]\n",
    "        all_in.append(x_in)\n",
    "        all_out.append(x_out)\n",
    "        max_tokens = max(max_tokens, len(x_in))\n",
    "    for i in range(len(all_in)):\n",
    "        attention_mask.append([1] * len(all_in[i]) + [0] * (max_tokens - len(all_in[i])))\n",
    "        all_in[i] += [pad_id] * (max_tokens - len(all_in[i]))\n",
    "        all_out[i] += [pad_id] * (max_tokens - len(all_out[i]))\n",
    "    return torch.tensor(all_in, dtype=torch.int64), torch.tensor(all_out, dtype=torch.int64), torch.tensor(attention_mask, dtype=torch.int64)"
   ]
  },
  {
   "cell_type": "code",
   "execution_count": 51,
   "metadata": {},
   "outputs": [],
   "source": [
    "all_in, all_out, attn = caption2batch(captions)"
   ]
  },
  {
   "cell_type": "code",
   "execution_count": 52,
   "metadata": {},
   "outputs": [],
   "source": [
    "# def collate_fn(data):\n",
    "#     images, captions = zip(*data)\n",
    "#     patched_images = []\n",
    "#     selected_captions = []\n",
    "#     for i, image in enumerate(images):\n",
    "#         patched_images.append(select_patches(image, device))\n",
    "#         u = np.random.choice(range(len(captions[i])))\n",
    "#         selected_captions.append(captions[i][u])\n",
    "#     captions_in, captions_out, attention_mask = caption2batch(selected_captions)\n",
    "#     patched_images = torch.stack(patched_images)\n",
    "#     return patched_images, captions_in, captions_out, attention_mask, selected_captions, captions"
   ]
  },
  {
   "cell_type": "code",
   "execution_count": 53,
   "metadata": {},
   "outputs": [],
   "source": [
    "dataloader = DataLoader(dataset, batch_size=BATCH_SIZE, num_workers=0, collate_fn=collate_fn, shuffle=True)"
   ]
  },
  {
   "cell_type": "code",
   "execution_count": 54,
   "metadata": {
    "tags": []
   },
   "outputs": [
    {
     "name": "stdout",
     "output_type": "stream",
     "text": [
      "tensor([[   0,   69,  627,  277,  261,  691,  488,  261, 1030, 8016,  280,  261,\n",
      "          469,    1,    1,    1,    1],\n",
      "        [   0,   69,  579,  280,  261,  524,  368,  297,  261,  651,  292,  579,\n",
      "         1130, 3883,    1,    1,    1],\n",
      "        [   0,   69,  314, 1926,  297, 8929,  984,  638,  261, 3593,    1,    1,\n",
      "            1,    1,    1,    1,    1],\n",
      "        [   0,   69, 2545,  289,  978, 2772, 1696,  279,  876, 3675,    1,    1,\n",
      "            1,    1,    1,    1,    1],\n",
      "        [   0,  380,  910,  393,  338,  356,  280,  284,  485,    1,    1,    1,\n",
      "            1,    1,    1,    1,    1],\n",
      "        [   0,  720, 1441,  524,  289,  579, 1196,  654,  292,  808,    1,    1,\n",
      "            1,    1,    1,    1,    1],\n",
      "        [   0,   69,  709,  469,  289, 2050, 1092,  292,  261,  418, 1733, 1251,\n",
      "         1113,    1,    1,    1,    1],\n",
      "        [   0,   69,  471,  438,  635,  277,  261,  506, 1950,  774,  284, 1030,\n",
      "            1,    1,    1,    1,    1],\n",
      "        [   0, 3191,  292, 2270,  277,  918,  655,  345,  574,    1,    1,    1,\n",
      "            1,    1,    1,    1,    1],\n",
      "        [   0,  380, 1406,  372,  338,  518,  261, 1015, 1110,  630,    1,    1,\n",
      "            1,    1,    1,    1,    1],\n",
      "        [   0,   69,  314,  473,  261,  547,  417,  261,  603,  387,    1,    1,\n",
      "            1,    1,    1,    1,    1],\n",
      "        [   0,  326,  683,  678,  307,  548,  277,  261, 1243,  387, 1256,    1,\n",
      "            1,    1,    1,    1,    1],\n",
      "        [   0,   69,  471, 2056,  277,  401,  279,  261,  649,  383,    1,    1,\n",
      "            1,    1,    1,    1,    1],\n",
      "        [   0,   69, 1315,  307,  955,  261,  833,  345,  284,  559,    1,    1,\n",
      "            1,    1,    1,    1,    1],\n",
      "        [   0,   69,  437,  279,  604,  356,  667,  261,  469,  368,  297,  261,\n",
      "         1113,    1,    1,    1,    1],\n",
      "        [   0,   69, 1351,  279, 1172,  289, 4307,  914,  292, 1357,  639,  277,\n",
      "          261,  470,    1,    1,    1],\n",
      "        [   0, 1837,  289, 8920,  356,  994,  261,  708,  280,  261,  436,    1,\n",
      "            1,    1,    1,    1,    1],\n",
      "        [   0,   69,  418,  676,  438, 1477,  379,  718,  856,  277,  284,  479,\n",
      "          279,  261,  535, 2033, 1976],\n",
      "        [   0,   69,  314,  280,  471,  748,  292,  902,  368,  297, 3057,  279,\n",
      "         1511,  292, 1092,    1,    1],\n",
      "        [   0,   69,  412,  394,  261, 1331, 8114,  379,  345,  261, 1113,    1,\n",
      "            1,    1,    1,    1,    1],\n",
      "        [   0,  326,  314,  307,  356,  277,  801,  277,  284,  479,  279,  284,\n",
      "          870,    1,    1,    1,    1],\n",
      "        [   0,   69,  555,  280,  374,  827,  394,  261,  455,  898,  277,  261,\n",
      "          647,  759,    1,    1,    1],\n",
      "        [   0, 2773,  338,  518,  289, 4032, 1643,  280,  284,  818,    1,    1,\n",
      "            1,    1,    1,    1,    1],\n",
      "        [   0, 6799, 1459,  289, 1201,  279, 1499,  277,  284,  479,  279,  284,\n",
      "          593,    1,    1,    1,    1],\n",
      "        [   0,  271, 4950,  496,  586, 1661,  261, 4146,  280,  261,  542,    1,\n",
      "            1,    1,    1,    1,    1],\n",
      "        [   0,   69, 9994, 1355,  279,  261,  314, 1034, 1083,  277,  261,  547,\n",
      "            1,    1,    1,    1,    1],\n",
      "        [   0,   69,  524,  654,  289,  261,  725,  279, 4188,  277,  825,    1,\n",
      "            1,    1,    1,    1,    1],\n",
      "        [   0,   69,  586,  279,  676, 1092,  334,  368,  297,  733,  540,  280,\n",
      "          261,  709,  469,    1,    1],\n",
      "        [   0, 1625,  279,  604,  518, 1110,  630,  280,  709,  655,    1,    1,\n",
      "            1,    1,    1,    1,    1],\n",
      "        [   0,   69,  496,  381, 1294,  261,  443,  615,  417,  261, 1009,  870,\n",
      "            1,    1,    1,    1,    1],\n",
      "        [   0,   69,  586,  279,  372,  334,  261,  649,  648,    1,    1,    1,\n",
      "            1,    1,    1,    1,    1],\n",
      "        [   0,   69,  418,  846,  919,  766,  488,  261,  412,    1,    1,    1,\n",
      "            1,    1,    1,    1,    1]])\n",
      "tensor([[  69,  627,  277,  261,  691,  488,  261, 1030, 8016,  280,  261,  469,\n",
      "            2,    1,    1,    1,    1],\n",
      "        [  69,  579,  280,  261,  524,  368,  297,  261,  651,  292,  579, 1130,\n",
      "         3883,    2,    1,    1,    1],\n",
      "        [  69,  314, 1926,  297, 8929,  984,  638,  261, 3593,    2,    1,    1,\n",
      "            1,    1,    1,    1,    1],\n",
      "        [  69, 2545,  289,  978, 2772, 1696,  279,  876, 3675,    2,    1,    1,\n",
      "            1,    1,    1,    1,    1],\n",
      "        [ 380,  910,  393,  338,  356,  280,  284,  485,    2,    1,    1,    1,\n",
      "            1,    1,    1,    1,    1],\n",
      "        [ 720, 1441,  524,  289,  579, 1196,  654,  292,  808,    2,    1,    1,\n",
      "            1,    1,    1,    1,    1],\n",
      "        [  69,  709,  469,  289, 2050, 1092,  292,  261,  418, 1733, 1251, 1113,\n",
      "            2,    1,    1,    1,    1],\n",
      "        [  69,  471,  438,  635,  277,  261,  506, 1950,  774,  284, 1030,    2,\n",
      "            1,    1,    1,    1,    1],\n",
      "        [3191,  292, 2270,  277,  918,  655,  345,  574,    2,    1,    1,    1,\n",
      "            1,    1,    1,    1,    1],\n",
      "        [ 380, 1406,  372,  338,  518,  261, 1015, 1110,  630,    2,    1,    1,\n",
      "            1,    1,    1,    1,    1],\n",
      "        [  69,  314,  473,  261,  547,  417,  261,  603,  387,    2,    1,    1,\n",
      "            1,    1,    1,    1,    1],\n",
      "        [ 326,  683,  678,  307,  548,  277,  261, 1243,  387, 1256,    2,    1,\n",
      "            1,    1,    1,    1,    1],\n",
      "        [  69,  471, 2056,  277,  401,  279,  261,  649,  383,    2,    1,    1,\n",
      "            1,    1,    1,    1,    1],\n",
      "        [  69, 1315,  307,  955,  261,  833,  345,  284,  559,    2,    1,    1,\n",
      "            1,    1,    1,    1,    1],\n",
      "        [  69,  437,  279,  604,  356,  667,  261,  469,  368,  297,  261, 1113,\n",
      "            2,    1,    1,    1,    1],\n",
      "        [  69, 1351,  279, 1172,  289, 4307,  914,  292, 1357,  639,  277,  261,\n",
      "          470,    2,    1,    1,    1],\n",
      "        [1837,  289, 8920,  356,  994,  261,  708,  280,  261,  436,    2,    1,\n",
      "            1,    1,    1,    1,    1],\n",
      "        [  69,  418,  676,  438, 1477,  379,  718,  856,  277,  284,  479,  279,\n",
      "          261,  535, 2033, 1976,    2],\n",
      "        [  69,  314,  280,  471,  748,  292,  902,  368,  297, 3057,  279, 1511,\n",
      "          292, 1092,    2,    1,    1],\n",
      "        [  69,  412,  394,  261, 1331, 8114,  379,  345,  261, 1113,    2,    1,\n",
      "            1,    1,    1,    1,    1],\n",
      "        [ 326,  314,  307,  356,  277,  801,  277,  284,  479,  279,  284,  870,\n",
      "            2,    1,    1,    1,    1],\n",
      "        [  69,  555,  280,  374,  827,  394,  261,  455,  898,  277,  261,  647,\n",
      "          759,    2,    1,    1,    1],\n",
      "        [2773,  338,  518,  289, 4032, 1643,  280,  284,  818,    2,    1,    1,\n",
      "            1,    1,    1,    1,    1],\n",
      "        [6799, 1459,  289, 1201,  279, 1499,  277,  284,  479,  279,  284,  593,\n",
      "            2,    1,    1,    1,    1],\n",
      "        [ 271, 4950,  496,  586, 1661,  261, 4146,  280,  261,  542,    2,    1,\n",
      "            1,    1,    1,    1,    1],\n",
      "        [  69, 9994, 1355,  279,  261,  314, 1034, 1083,  277,  261,  547,    2,\n",
      "            1,    1,    1,    1,    1],\n",
      "        [  69,  524,  654,  289,  261,  725,  279, 4188,  277,  825,    2,    1,\n",
      "            1,    1,    1,    1,    1],\n",
      "        [  69,  586,  279,  676, 1092,  334,  368,  297,  733,  540,  280,  261,\n",
      "          709,  469,    2,    1,    1],\n",
      "        [1625,  279,  604,  518, 1110,  630,  280,  709,  655,    2,    1,    1,\n",
      "            1,    1,    1,    1,    1],\n",
      "        [  69,  496,  381, 1294,  261,  443,  615,  417,  261, 1009,  870,    2,\n",
      "            1,    1,    1,    1,    1],\n",
      "        [  69,  586,  279,  372,  334,  261,  649,  648,    2,    1,    1,    1,\n",
      "            1,    1,    1,    1,    1],\n",
      "        [  69,  418,  846,  919,  766,  488,  261,  412,    2,    1,    1,    1,\n",
      "            1,    1,    1,    1,    1]])\n",
      "tensor([[1, 1, 1, 1, 1, 1, 1, 1, 1, 1, 1, 1, 1, 0, 0, 0, 0],\n",
      "        [1, 1, 1, 1, 1, 1, 1, 1, 1, 1, 1, 1, 1, 1, 0, 0, 0],\n",
      "        [1, 1, 1, 1, 1, 1, 1, 1, 1, 1, 0, 0, 0, 0, 0, 0, 0],\n",
      "        [1, 1, 1, 1, 1, 1, 1, 1, 1, 1, 0, 0, 0, 0, 0, 0, 0],\n",
      "        [1, 1, 1, 1, 1, 1, 1, 1, 1, 0, 0, 0, 0, 0, 0, 0, 0],\n",
      "        [1, 1, 1, 1, 1, 1, 1, 1, 1, 1, 0, 0, 0, 0, 0, 0, 0],\n",
      "        [1, 1, 1, 1, 1, 1, 1, 1, 1, 1, 1, 1, 1, 0, 0, 0, 0],\n",
      "        [1, 1, 1, 1, 1, 1, 1, 1, 1, 1, 1, 1, 0, 0, 0, 0, 0],\n",
      "        [1, 1, 1, 1, 1, 1, 1, 1, 1, 0, 0, 0, 0, 0, 0, 0, 0],\n",
      "        [1, 1, 1, 1, 1, 1, 1, 1, 1, 1, 0, 0, 0, 0, 0, 0, 0],\n",
      "        [1, 1, 1, 1, 1, 1, 1, 1, 1, 1, 0, 0, 0, 0, 0, 0, 0],\n",
      "        [1, 1, 1, 1, 1, 1, 1, 1, 1, 1, 1, 0, 0, 0, 0, 0, 0],\n",
      "        [1, 1, 1, 1, 1, 1, 1, 1, 1, 1, 0, 0, 0, 0, 0, 0, 0],\n",
      "        [1, 1, 1, 1, 1, 1, 1, 1, 1, 1, 0, 0, 0, 0, 0, 0, 0],\n",
      "        [1, 1, 1, 1, 1, 1, 1, 1, 1, 1, 1, 1, 1, 0, 0, 0, 0],\n",
      "        [1, 1, 1, 1, 1, 1, 1, 1, 1, 1, 1, 1, 1, 1, 0, 0, 0],\n",
      "        [1, 1, 1, 1, 1, 1, 1, 1, 1, 1, 1, 0, 0, 0, 0, 0, 0],\n",
      "        [1, 1, 1, 1, 1, 1, 1, 1, 1, 1, 1, 1, 1, 1, 1, 1, 1],\n",
      "        [1, 1, 1, 1, 1, 1, 1, 1, 1, 1, 1, 1, 1, 1, 1, 0, 0],\n",
      "        [1, 1, 1, 1, 1, 1, 1, 1, 1, 1, 1, 0, 0, 0, 0, 0, 0],\n",
      "        [1, 1, 1, 1, 1, 1, 1, 1, 1, 1, 1, 1, 1, 0, 0, 0, 0],\n",
      "        [1, 1, 1, 1, 1, 1, 1, 1, 1, 1, 1, 1, 1, 1, 0, 0, 0],\n",
      "        [1, 1, 1, 1, 1, 1, 1, 1, 1, 1, 0, 0, 0, 0, 0, 0, 0],\n",
      "        [1, 1, 1, 1, 1, 1, 1, 1, 1, 1, 1, 1, 1, 0, 0, 0, 0],\n",
      "        [1, 1, 1, 1, 1, 1, 1, 1, 1, 1, 1, 0, 0, 0, 0, 0, 0],\n",
      "        [1, 1, 1, 1, 1, 1, 1, 1, 1, 1, 1, 1, 0, 0, 0, 0, 0],\n",
      "        [1, 1, 1, 1, 1, 1, 1, 1, 1, 1, 1, 0, 0, 0, 0, 0, 0],\n",
      "        [1, 1, 1, 1, 1, 1, 1, 1, 1, 1, 1, 1, 1, 1, 1, 0, 0],\n",
      "        [1, 1, 1, 1, 1, 1, 1, 1, 1, 1, 0, 0, 0, 0, 0, 0, 0],\n",
      "        [1, 1, 1, 1, 1, 1, 1, 1, 1, 1, 1, 1, 0, 0, 0, 0, 0],\n",
      "        [1, 1, 1, 1, 1, 1, 1, 1, 1, 0, 0, 0, 0, 0, 0, 0, 0],\n",
      "        [1, 1, 1, 1, 1, 1, 1, 1, 1, 0, 0, 0, 0, 0, 0, 0, 0]])\n"
     ]
    }
   ],
   "source": [
    "for img, c_in, c_out, attn, cap_name in dataloader:\n",
    "    N, T, C, H, W = img.shape\n",
    "    img = img.to(device)\n",
    "    with torch.no_grad():\n",
    "        features = torch.mean(m.forward_features(einops.rearrange(img, 'N T C H W -> (N T) C H W')), dim=(-1, -2))\n",
    "    features = einops.rearrange(features, '(N T) F -> N T F', T = T)\n",
    "    print(c_in)\n",
    "    print(c_out)\n",
    "    print(attn)\n",
    "    break"
   ]
  },
  {
   "cell_type": "markdown",
   "metadata": {},
   "source": [
    "# Caption Reward Class"
   ]
  },
  {
   "cell_type": "code",
   "execution_count": 55,
   "metadata": {},
   "outputs": [],
   "source": [
    "dictionary = json.load(open('Data/COCO17/dictionary.json', 'r'))"
   ]
  },
  {
   "cell_type": "code",
   "execution_count": 60,
   "metadata": {},
   "outputs": [],
   "source": [
    "cap_dict = json.load(open('Data/COCO17/cap_dict.json', 'r'))"
   ]
  },
  {
   "cell_type": "code",
   "execution_count": 69,
   "metadata": {},
   "outputs": [],
   "source": [
    "dictionary = {int(k):v for k, v in dictionary.items()}\n",
    "cap_dict = {int(k): v for k, v in cap_dict.items()}"
   ]
  },
  {
   "cell_type": "code",
   "execution_count": 120,
   "metadata": {},
   "outputs": [],
   "source": [
    "class CaptionReward:\n",
    "    def __init__(self, dictionary, N):\n",
    "        self.N = N\n",
    "        self.dictionary = dictionary\n",
    "        \n",
    "    def cos_similarity(self, d1, d2):\n",
    "        score = 0\n",
    "        total1 = 0\n",
    "        total2 = 0\n",
    "        for k, v in d1.items():\n",
    "            if k in d2:\n",
    "                score += v * d2[k]\n",
    "            total1 += v ** 2\n",
    "        for k, v in d2.items():\n",
    "            total2 += v ** 2\n",
    "        return (score + 1e-8) / math.sqrt(total1 * total2 + 1e-8)\n",
    "    \n",
    "    def clean_text(self, text):\n",
    "        text = re.sub('[.,;!?]', ' ', text)\n",
    "        text = re.sub('[ ][ ]+', ' ', text).strip()\n",
    "        text = text.lower()\n",
    "        return text\n",
    "    \n",
    "    def tf_idf(self, text, order):\n",
    "        text = self.clean_text(text)\n",
    "        tf = dict()\n",
    "        result = dict()\n",
    "        count = 0\n",
    "        tokens = [lemmatizer.lemmatize(item) for item in text.split(' ')]\n",
    "        if len(tokens) < order:\n",
    "            return {}\n",
    "        for i in range(len(tokens) - order + 1):\n",
    "            token = ' '.join(tokens[i:i+order])\n",
    "            if token not in tf:\n",
    "                tf[token] = 0\n",
    "            tf[token] += 1\n",
    "            count += 1\n",
    "        for token, tf_value in tf.items():\n",
    "            if token in self.dictionary[order]:\n",
    "                df = self.dictionary[order][token]['df']\n",
    "            else:\n",
    "                df = 0\n",
    "            result[token] = (tf[token] / count) * math.log((self.N + 1) / (df + 1))\n",
    "        return result\n",
    "    \n",
    "    def cider(self, refs, c):\n",
    "        final_score = 0\n",
    "        for order in [1, 2, 3, 4]:\n",
    "            ref_scores = []\n",
    "            for ref in refs:\n",
    "                ref_scores.append(self.tf_idf(ref, order=order))\n",
    "            c_score = self.tf_idf(c, order=order)\n",
    "            score = 0\n",
    "            for ref_score in ref_scores:\n",
    "                score += self.cos_similarity(c_score, ref_score)\n",
    "            score /= len(refs)\n",
    "            final_score += score\n",
    "        return final_score / 4"
   ]
  },
  {
   "cell_type": "code",
   "execution_count": 121,
   "metadata": {},
   "outputs": [],
   "source": [
    "lemmatizer = WordNetLemmatizer()"
   ]
  },
  {
   "cell_type": "code",
   "execution_count": 122,
   "metadata": {},
   "outputs": [],
   "source": [
    "cap_reward = CaptionReward(dictionary, len(cap_dict))"
   ]
  },
  {
   "cell_type": "code",
   "execution_count": 127,
   "metadata": {},
   "outputs": [
    {
     "data": {
      "text/plain": [
       "0.010004503114036912"
      ]
     },
     "execution_count": 127,
     "metadata": {},
     "output_type": "execute_result"
    }
   ],
   "source": [
    "cap_reward.cider(caption, 'a man with a book')"
   ]
  },
  {
   "cell_type": "code",
   "execution_count": 134,
   "metadata": {},
   "outputs": [
    {
     "data": {
      "text/plain": [
       "'&!\"!'"
      ]
     },
     "execution_count": 134,
     "metadata": {},
     "output_type": "execute_result"
    }
   ],
   "source": [
    "tokenizer.decode([10, 5, 6, 2, 5])"
   ]
  },
  {
   "cell_type": "code",
   "execution_count": 140,
   "metadata": {},
   "outputs": [],
   "source": [
    "def id2string(cap, tokenizer, batch=False):\n",
    "    if batch:\n",
    "        out = []\n",
    "        for caption in cap:\n",
    "            out.append(id2string(caption, tokenizer))\n",
    "        return out\n",
    "    else:\n",
    "        filtered_cap = []\n",
    "        for item in cap:\n",
    "            if item == BOS_ID:\n",
    "                filtered_cap = []\n",
    "            elif item == EOS_ID:\n",
    "                break\n",
    "            else:\n",
    "                filtered_cap.append(item)\n",
    "        return tokenizer.decode(filtered_cap)"
   ]
  },
  {
   "cell_type": "code",
   "execution_count": 141,
   "metadata": {},
   "outputs": [
    {
     "data": {
      "text/plain": [
       "'&!\"'"
      ]
     },
     "execution_count": 141,
     "metadata": {},
     "output_type": "execute_result"
    }
   ],
   "source": [
    "id2string([10, 5, 6, 2, 5], tokenizer)"
   ]
  },
  {
   "cell_type": "markdown",
   "metadata": {},
   "source": [
    "# Prepare value and policy networks"
   ]
  },
  {
   "cell_type": "code",
   "execution_count": 67,
   "metadata": {},
   "outputs": [],
   "source": [
    "config = GPT2Config(vocab_size=10_000, n_positions=32, n_embd=256, n_layer=8, n_head=4, eos_token_id=2, bos_token_id=0, add_cross_attention=True)\n",
    "policy_backbone = GPT2LMHeadModel(config).to(device)\n",
    "value_backbone = GPT2LMHeadModel(config).to(device)\n",
    "#fc_layer = nn.Linear(1280, 256).to(device)"
   ]
  },
  {
   "cell_type": "markdown",
   "metadata": {},
   "source": [
    "# Train Policy Network"
   ]
  },
  {
   "cell_type": "code",
   "execution_count": 68,
   "metadata": {},
   "outputs": [],
   "source": [
    "class PolicyNetwork(nn.Module):\n",
    "    def __init__(self, backbone):\n",
    "        super().__init__()\n",
    "        self.backbone = backbone\n",
    "        self.fc = nn.Linear(1280, 256)\n",
    "    \n",
    "    def forward(self, cap_in, attn, features):\n",
    "        features = self.fc(features)\n",
    "        return self.backbone(input_ids=cap_in, attention_mask=attn, encoder_hidden_states=features)\n",
    "\n",
    "    def generate(self, features):\n",
    "        features = self.fc(features)\n",
    "        return self.backbone.generate(encoder_hidden_states=features)"
   ]
  },
  {
   "cell_type": "code",
   "execution_count": 69,
   "metadata": {},
   "outputs": [],
   "source": [
    "policy_network = PolicyNetwork(backbone=policy_backbone).to(device)"
   ]
  },
  {
   "cell_type": "code",
   "execution_count": 70,
   "metadata": {},
   "outputs": [],
   "source": [
    "criterion = nn.CrossEntropyLoss(reduction='none').to(device)\n",
    "optimizer = torch.optim.Adam(policy_network.parameters(), lr=0.0001)"
   ]
  },
  {
   "cell_type": "code",
   "execution_count": 72,
   "metadata": {},
   "outputs": [
    {
     "name": "stderr",
     "output_type": "stream",
     "text": [
      "100%|██████████| 32/32 [01:09<00:00,  2.16s/it]\n"
     ]
    },
    {
     "name": "stdout",
     "output_type": "stream",
     "text": [
      "Epoch: 1 loss: 7.901507171630859 Acc: 20.446816349029543\n"
     ]
    },
    {
     "name": "stderr",
     "output_type": "stream",
     "text": [
      "100%|██████████| 32/32 [01:09<00:00,  2.17s/it]\n"
     ]
    },
    {
     "name": "stdout",
     "output_type": "stream",
     "text": [
      "Epoch: 2 loss: 6.911219955444336 Acc: 23.18309087753296\n"
     ]
    },
    {
     "name": "stderr",
     "output_type": "stream",
     "text": [
      "100%|██████████| 32/32 [01:09<00:00,  2.18s/it]\n"
     ]
    },
    {
     "name": "stdout",
     "output_type": "stream",
     "text": [
      "Epoch: 3 loss: 6.151190818786621 Acc: 24.546228885650635\n"
     ]
    },
    {
     "name": "stderr",
     "output_type": "stream",
     "text": [
      "100%|██████████| 32/32 [01:09<00:00,  2.19s/it]\n"
     ]
    },
    {
     "name": "stdout",
     "output_type": "stream",
     "text": [
      "Epoch: 4 loss: 5.605170112609863 Acc: 25.819731450080873\n"
     ]
    },
    {
     "name": "stderr",
     "output_type": "stream",
     "text": [
      "100%|██████████| 32/32 [01:09<00:00,  2.19s/it]\n"
     ]
    },
    {
     "name": "stdout",
     "output_type": "stream",
     "text": [
      "Epoch: 5 loss: 5.261718845367431 Acc: 27.355948925018307\n"
     ]
    },
    {
     "name": "stderr",
     "output_type": "stream",
     "text": [
      "100%|██████████| 32/32 [01:10<00:00,  2.19s/it]\n"
     ]
    },
    {
     "name": "stdout",
     "output_type": "stream",
     "text": [
      "Epoch: 6 loss: 5.005664066314697 Acc: 28.988360810279843\n"
     ]
    },
    {
     "name": "stderr",
     "output_type": "stream",
     "text": [
      "100%|██████████| 32/32 [01:10<00:00,  2.19s/it]\n"
     ]
    },
    {
     "name": "stdout",
     "output_type": "stream",
     "text": [
      "Epoch: 7 loss: 4.856216567993164 Acc: 30.08176064491272\n"
     ]
    },
    {
     "name": "stderr",
     "output_type": "stream",
     "text": [
      "100%|██████████| 32/32 [01:10<00:00,  2.19s/it]\n"
     ]
    },
    {
     "name": "stdout",
     "output_type": "stream",
     "text": [
      "Epoch: 8 loss: 4.8061171035766606 Acc: 30.31256551742554\n"
     ]
    },
    {
     "name": "stderr",
     "output_type": "stream",
     "text": [
      "100%|██████████| 32/32 [01:10<00:00,  2.19s/it]\n"
     ]
    },
    {
     "name": "stdout",
     "output_type": "stream",
     "text": [
      "Epoch: 9 loss: 4.625090408325195 Acc: 31.98979570865631\n"
     ]
    },
    {
     "name": "stderr",
     "output_type": "stream",
     "text": [
      "100%|██████████| 32/32 [01:10<00:00,  2.20s/it]\n"
     ]
    },
    {
     "name": "stdout",
     "output_type": "stream",
     "text": [
      "Epoch: 10 loss: 4.57916032409668 Acc: 31.71397285461426\n"
     ]
    },
    {
     "name": "stderr",
     "output_type": "stream",
     "text": [
      "100%|██████████| 32/32 [01:10<00:00,  2.20s/it]\n"
     ]
    },
    {
     "name": "stdout",
     "output_type": "stream",
     "text": [
      "Epoch: 11 loss: 4.482409042358398 Acc: 32.346877336502075\n"
     ]
    },
    {
     "name": "stderr",
     "output_type": "stream",
     "text": [
      "100%|██████████| 32/32 [01:10<00:00,  2.20s/it]\n"
     ]
    },
    {
     "name": "stdout",
     "output_type": "stream",
     "text": [
      "Epoch: 12 loss: 4.426988723754882 Acc: 32.796797037124634\n"
     ]
    },
    {
     "name": "stderr",
     "output_type": "stream",
     "text": [
      "100%|██████████| 32/32 [01:10<00:00,  2.20s/it]\n"
     ]
    },
    {
     "name": "stdout",
     "output_type": "stream",
     "text": [
      "Epoch: 13 loss: 4.358503448486328 Acc: 33.056767272949216\n"
     ]
    },
    {
     "name": "stderr",
     "output_type": "stream",
     "text": [
      "100%|██████████| 32/32 [01:10<00:00,  2.20s/it]\n"
     ]
    },
    {
     "name": "stdout",
     "output_type": "stream",
     "text": [
      "Epoch: 14 loss: 4.263893898010254 Acc: 34.30557706356049\n"
     ]
    },
    {
     "name": "stderr",
     "output_type": "stream",
     "text": [
      "100%|██████████| 32/32 [01:10<00:00,  2.21s/it]\n"
     ]
    },
    {
     "name": "stdout",
     "output_type": "stream",
     "text": [
      "Epoch: 15 loss: 4.2521094131469725 Acc: 33.88499487638473\n"
     ]
    },
    {
     "name": "stderr",
     "output_type": "stream",
     "text": [
      "100%|██████████| 32/32 [01:10<00:00,  2.20s/it]\n"
     ]
    },
    {
     "name": "stdout",
     "output_type": "stream",
     "text": [
      "Epoch: 16 loss: 4.197015609741211 Acc: 34.86425590515137\n"
     ]
    },
    {
     "name": "stderr",
     "output_type": "stream",
     "text": [
      "100%|██████████| 32/32 [01:10<00:00,  2.20s/it]\n"
     ]
    },
    {
     "name": "stdout",
     "output_type": "stream",
     "text": [
      "Epoch: 17 loss: 4.106218744277954 Acc: 35.298906373977665\n"
     ]
    },
    {
     "name": "stderr",
     "output_type": "stream",
     "text": [
      "100%|██████████| 32/32 [01:10<00:00,  2.21s/it]\n"
     ]
    },
    {
     "name": "stdout",
     "output_type": "stream",
     "text": [
      "Epoch: 18 loss: 4.107451377868652 Acc: 35.148528480529784\n"
     ]
    },
    {
     "name": "stderr",
     "output_type": "stream",
     "text": [
      "100%|██████████| 32/32 [01:10<00:00,  2.20s/it]\n"
     ]
    },
    {
     "name": "stdout",
     "output_type": "stream",
     "text": [
      "Epoch: 19 loss: 4.046264350891113 Acc: 35.89055762290955\n"
     ]
    },
    {
     "name": "stderr",
     "output_type": "stream",
     "text": [
      "100%|██████████| 32/32 [01:10<00:00,  2.20s/it]"
     ]
    },
    {
     "name": "stdout",
     "output_type": "stream",
     "text": [
      "Epoch: 20 loss: 3.980098171234131 Acc: 36.290602684020996\n"
     ]
    },
    {
     "name": "stderr",
     "output_type": "stream",
     "text": [
      "\n"
     ]
    }
   ],
   "source": [
    "bestLoss = 1.9\n",
    "n_epochs = 20\n",
    "for epoch in range(n_epochs):\n",
    "    total_loss = 0\n",
    "    total_accuracy = 0\n",
    "    count = 0\n",
    "    for img, cap_in, cap_out, attn, _, _ in tqdm(dataloader):\n",
    "        N, T, C, H, W = img.shape\n",
    "        img = img.to(device)\n",
    "        cap_in = cap_in.to(device)\n",
    "        cap_out = cap_out.to(device)\n",
    "        attn = attn.to(device)\n",
    "        with torch.no_grad():\n",
    "            features = torch.mean(m.forward_features(einops.rearrange(img, 'N T C H W -> (N T) C H W')), dim=(-1, -2))\n",
    "        features = einops.rearrange(features, '(N T) F -> N T F', T = T)\n",
    "        output = policy_network(cap_in, attn, features)\n",
    "        out = einops.rearrange(output.logits, 'N T P -> N P T')\n",
    "        loss = torch.mean(torch.sum(criterion(out, cap_out) * attn, dim=-1) / torch.sum(attn, dim=-1))\n",
    "        total_loss += loss.item() * N\n",
    "        count += N\n",
    "        total_accuracy += torch.mean(torch.sum((torch.argmax(out, dim=1) == cap_out) * attn, dim=-1) / torch.sum(attn, dim=-1)).item() * N    \n",
    "        optimizer.zero_grad()\n",
    "        loss.backward()\n",
    "        optimizer.step()\n",
    "    total_loss /= count\n",
    "    total_accuracy /= count\n",
    "    print(\"Epoch:\", epoch + 1, \"loss:\", total_loss, \"Acc:\", total_accuracy * 100)\n",
    "    if total_loss < bestLoss:\n",
    "        bestLoss = total_loss\n",
    "        torch.save(policy_network.state_dict(), \"Models/policy_network.pt\")\n",
    "        print('----Best model saved.')\n",
    "        "
   ]
  },
  {
   "cell_type": "markdown",
   "metadata": {},
   "source": [
    "# Train Value Network\n"
   ]
  },
  {
   "cell_type": "code",
   "execution_count": 107,
   "metadata": {},
   "outputs": [],
   "source": [
    "class ValueNetwork(nn.Module):\n",
    "    def __init__(self, backbone):\n",
    "        super().__init__()\n",
    "        self.backbone = backbone\n",
    "        self.fc = nn.Linear(1280, 256)\n",
    "    \n",
    "    def forward(self, cap_in, attn, features):\n",
    "        features = self.fc(features)\n",
    "        hidden_states = self.backbone(input_ids=cap_in, attention_mask=attn, \n",
    "                                      encoder_hidden_states=features, output_hidden_states=True).hidden_states\n",
    "        print(hidden_states[-1].shape)"
   ]
  },
  {
   "cell_type": "code",
   "execution_count": 108,
   "metadata": {},
   "outputs": [],
   "source": [
    "value_network = ValueNetwork(backbone=value_backbone).to(device)"
   ]
  },
  {
   "cell_type": "code",
   "execution_count": 109,
   "metadata": {},
   "outputs": [],
   "source": [
    "criterion = nn.MSELoss().to(device)\n",
    "optimizer = torch.optim.Adam(value_network.parameters(), lr=0.0001)"
   ]
  },
  {
   "cell_type": "code",
   "execution_count": 110,
   "metadata": {},
   "outputs": [],
   "source": [
    "def get_random_level(attn):\n",
    "    rand_ids = (torch.rand(len(cap_in), device=device) * torch.sum(attn, dim=-1) + 0.99).long()\n",
    "    new_attn = torch.ones(attn.shape, dtype=torch.int64)\n",
    "    for i in range(len(rand_ids)):\n",
    "        new_attn[i][:rand_ids[i]] = 1\n",
    "    return new_attn.to(device)"
   ]
  },
  {
   "cell_type": "code",
   "execution_count": 114,
   "metadata": {},
   "outputs": [
    {
     "data": {
      "text/plain": [
       "tensor([False, False, False, False, False])"
      ]
     },
     "execution_count": 114,
     "metadata": {},
     "output_type": "execute_result"
    }
   ],
   "source": [
    "torch.ones(5) == 0.4"
   ]
  },
  {
   "cell_type": "code",
   "execution_count": null,
   "metadata": {},
   "outputs": [],
   "source": [
    "def GenerateCaptionsWithBeamSearch(model, cap_in, features, beamSize=5, eos_id=EOS_ID):\n",
    "    gen_caps = torch.tensor(cap_in[:, 0:1], device=device).long()\n",
    "    N = len(cap_in)\n",
    "    candidates = [(gen_caps, torch.ones(N, 1, dtype=torch.int64).to(device), 0)]\n",
    "    for t in range(MAX_SEQ_LENGTH-1):\n",
    "        next_candidates = []\n",
    "        for c in range(len(candidates)):\n",
    "            output = model(candidates[c][0], candidates[c][1], features).logits\n",
    "            probs, words = torch.topk(output[:, -1:, :], beamSize)\n",
    "            for i in range(beamSize):\n",
    "                cap_already_ended = torch.sum(eos_id == candidates[c][1], dim=-1).bool().float()\n",
    "                attn = torch.cat((candidates[c][1], words[:, :, i] == eos_id), axis=1) \n",
    "                cap = torch.cat((candidates[c][0], words[:, :, i]), axis=1)\n",
    "                score = candidates[c][2] - torch.log(probs[0, 0, i]).item() * (1 - cap_already_ended)\n",
    "                next_candidates.append((cap, score))\n",
    "        ordered_candidates = sorted(next_candidates, key=lambda tup:tup[2])\n",
    "        candidates = ordered_candidates[:beamSize]\n",
    "    captions = [item[0] for item in candidates]\n",
    "    return captions\n"
   ]
  },
  {
   "cell_type": "code",
   "execution_count": null,
   "metadata": {},
   "outputs": [],
   "source": [
    "\n",
    "    "
   ]
  },
  {
   "cell_type": "code",
   "execution_count": null,
   "metadata": {},
   "outputs": [],
   "source": [
    "bestLoss = 10000\n",
    "n_epochs = 20\n",
    "for epoch in range(n_epochs):\n",
    "    total_loss = 0\n",
    "    total_accuracy = 0\n",
    "    count = 0\n",
    "    for img, cap_in, cap_out, attn, cap_name in tqdm(dataloader):\n",
    "        N, T, C, H, W = img.shape\n",
    "        img = img.to(device)\n",
    "        cap_in = cap_in.to(device)\n",
    "        cap_out = cap_out.to(device)\n",
    "        attn = attn.to(device)\n",
    "        with torch.no_grad():\n",
    "            features = torch.mean(m.forward_features(einops.rearrange(img, 'N T C H W -> (N T) C H W')), dim=(-1, -2))\n",
    "        # Generate captions using the policy network\n",
    "        captions = GenerateCaptionsWithBeamSearch(policy_network, cap_in, features)\n",
    "    \n",
    "        # Compute the reward of the generated caption using reward network\n",
    "        rewards = cap_reward.cider(cap_in, cap_out)\n",
    "\n",
    "        # Compute the value of a random state in the generation process\n",
    "        values = valueNetwork(captions[:, :random.randint(1, MAX_SEQ_LENGTH)], attn[:, :random.randint(1, MAX_SEQ_LENGTH)], features)\n",
    "    \n",
    "    # Compute the loss for the value and the reward\n",
    "    loss = criterion(values, rewards)\n",
    "    \n",
    "    if loss.item() < bestLoss:\n",
    "        bestLoss = loss.item()\n",
    "        torch.save(valueNetwork.state_dict(), \"valueNetwork.pt\")\n",
    "        print(\"epoch:\", epoch, \"loss:\", loss.item())\n",
    "    \n",
    "    optimizer.zero_grad()\n",
    "    loss.backward()\n",
    "    optimizer.step()\n",
    "    \n",
    "    valueNetwork.valrnn.hidden_cell[0].detach_()\n",
    "    valueNetwork.valrnn.hidden_cell[1].detach_()\n",
    "    rewardNet.rewrnn.hidden_cell.detach_()\n"
   ]
  },
  {
   "cell_type": "code",
   "execution_count": 111,
   "metadata": {},
   "outputs": [
    {
     "name": "stderr",
     "output_type": "stream",
     "text": [
      "  3%|▎         | 1/32 [00:02<01:10,  2.27s/it]"
     ]
    },
    {
     "name": "stdout",
     "output_type": "stream",
     "text": [
      "torch.Size([32, 19, 256])\n"
     ]
    },
    {
     "name": "stderr",
     "output_type": "stream",
     "text": [
      "  6%|▋         | 2/32 [00:04<01:08,  2.27s/it]"
     ]
    },
    {
     "name": "stdout",
     "output_type": "stream",
     "text": [
      "torch.Size([32, 22, 256])\n"
     ]
    },
    {
     "name": "stderr",
     "output_type": "stream",
     "text": [
      "  6%|▋         | 2/32 [00:05<01:20,  2.69s/it]\n"
     ]
    },
    {
     "ename": "KeyboardInterrupt",
     "evalue": "",
     "output_type": "error",
     "traceback": [
      "\u001b[0;31m---------------------------------------------------------------------------\u001b[0m",
      "\u001b[0;31mKeyboardInterrupt\u001b[0m                         Traceback (most recent call last)",
      "\u001b[0;32m<ipython-input-111-aeca0edba647>\u001b[0m in \u001b[0;36m<module>\u001b[0;34m\u001b[0m\n\u001b[1;32m      5\u001b[0m     \u001b[0mtotal_accuracy\u001b[0m \u001b[0;34m=\u001b[0m \u001b[0;36m0\u001b[0m\u001b[0;34m\u001b[0m\u001b[0;34m\u001b[0m\u001b[0m\n\u001b[1;32m      6\u001b[0m     \u001b[0mcount\u001b[0m \u001b[0;34m=\u001b[0m \u001b[0;36m0\u001b[0m\u001b[0;34m\u001b[0m\u001b[0;34m\u001b[0m\u001b[0m\n\u001b[0;32m----> 7\u001b[0;31m     \u001b[0;32mfor\u001b[0m \u001b[0mimg\u001b[0m\u001b[0;34m,\u001b[0m \u001b[0mcap_in\u001b[0m\u001b[0;34m,\u001b[0m \u001b[0mcap_out\u001b[0m\u001b[0;34m,\u001b[0m \u001b[0mattn\u001b[0m\u001b[0;34m,\u001b[0m \u001b[0mcap_name\u001b[0m \u001b[0;32min\u001b[0m \u001b[0mtqdm\u001b[0m\u001b[0;34m(\u001b[0m\u001b[0mdataloader\u001b[0m\u001b[0;34m)\u001b[0m\u001b[0;34m:\u001b[0m\u001b[0;34m\u001b[0m\u001b[0;34m\u001b[0m\u001b[0m\n\u001b[0m\u001b[1;32m      8\u001b[0m         \u001b[0mN\u001b[0m\u001b[0;34m,\u001b[0m \u001b[0mT\u001b[0m\u001b[0;34m,\u001b[0m \u001b[0mC\u001b[0m\u001b[0;34m,\u001b[0m \u001b[0mH\u001b[0m\u001b[0;34m,\u001b[0m \u001b[0mW\u001b[0m \u001b[0;34m=\u001b[0m \u001b[0mimg\u001b[0m\u001b[0;34m.\u001b[0m\u001b[0mshape\u001b[0m\u001b[0;34m\u001b[0m\u001b[0;34m\u001b[0m\u001b[0m\n\u001b[1;32m      9\u001b[0m         \u001b[0mimg\u001b[0m \u001b[0;34m=\u001b[0m \u001b[0mimg\u001b[0m\u001b[0;34m.\u001b[0m\u001b[0mto\u001b[0m\u001b[0;34m(\u001b[0m\u001b[0mdevice\u001b[0m\u001b[0;34m)\u001b[0m\u001b[0;34m\u001b[0m\u001b[0;34m\u001b[0m\u001b[0m\n",
      "\u001b[0;32m/media/external_10TB/10TB/Behnamnia/AttentionRL/rl_env/lib/python3.6/site-packages/tqdm/std.py\u001b[0m in \u001b[0;36m__iter__\u001b[0;34m(self)\u001b[0m\n\u001b[1;32m   1193\u001b[0m \u001b[0;34m\u001b[0m\u001b[0m\n\u001b[1;32m   1194\u001b[0m         \u001b[0;32mtry\u001b[0m\u001b[0;34m:\u001b[0m\u001b[0;34m\u001b[0m\u001b[0;34m\u001b[0m\u001b[0m\n\u001b[0;32m-> 1195\u001b[0;31m             \u001b[0;32mfor\u001b[0m \u001b[0mobj\u001b[0m \u001b[0;32min\u001b[0m \u001b[0miterable\u001b[0m\u001b[0;34m:\u001b[0m\u001b[0;34m\u001b[0m\u001b[0;34m\u001b[0m\u001b[0m\n\u001b[0m\u001b[1;32m   1196\u001b[0m                 \u001b[0;32myield\u001b[0m \u001b[0mobj\u001b[0m\u001b[0;34m\u001b[0m\u001b[0;34m\u001b[0m\u001b[0m\n\u001b[1;32m   1197\u001b[0m                 \u001b[0;31m# Update and possibly print the progressbar.\u001b[0m\u001b[0;34m\u001b[0m\u001b[0;34m\u001b[0m\u001b[0;34m\u001b[0m\u001b[0m\n",
      "\u001b[0;32m/media/external_10TB/10TB/Behnamnia/AttentionRL/rl_env/lib/python3.6/site-packages/torch/utils/data/dataloader.py\u001b[0m in \u001b[0;36m__next__\u001b[0;34m(self)\u001b[0m\n\u001b[1;32m    519\u001b[0m             \u001b[0;32mif\u001b[0m \u001b[0mself\u001b[0m\u001b[0;34m.\u001b[0m\u001b[0m_sampler_iter\u001b[0m \u001b[0;32mis\u001b[0m \u001b[0;32mNone\u001b[0m\u001b[0;34m:\u001b[0m\u001b[0;34m\u001b[0m\u001b[0;34m\u001b[0m\u001b[0m\n\u001b[1;32m    520\u001b[0m                 \u001b[0mself\u001b[0m\u001b[0;34m.\u001b[0m\u001b[0m_reset\u001b[0m\u001b[0;34m(\u001b[0m\u001b[0;34m)\u001b[0m\u001b[0;34m\u001b[0m\u001b[0;34m\u001b[0m\u001b[0m\n\u001b[0;32m--> 521\u001b[0;31m             \u001b[0mdata\u001b[0m \u001b[0;34m=\u001b[0m \u001b[0mself\u001b[0m\u001b[0;34m.\u001b[0m\u001b[0m_next_data\u001b[0m\u001b[0;34m(\u001b[0m\u001b[0;34m)\u001b[0m\u001b[0;34m\u001b[0m\u001b[0;34m\u001b[0m\u001b[0m\n\u001b[0m\u001b[1;32m    522\u001b[0m             \u001b[0mself\u001b[0m\u001b[0;34m.\u001b[0m\u001b[0m_num_yielded\u001b[0m \u001b[0;34m+=\u001b[0m \u001b[0;36m1\u001b[0m\u001b[0;34m\u001b[0m\u001b[0;34m\u001b[0m\u001b[0m\n\u001b[1;32m    523\u001b[0m             \u001b[0;32mif\u001b[0m \u001b[0mself\u001b[0m\u001b[0;34m.\u001b[0m\u001b[0m_dataset_kind\u001b[0m \u001b[0;34m==\u001b[0m \u001b[0m_DatasetKind\u001b[0m\u001b[0;34m.\u001b[0m\u001b[0mIterable\u001b[0m \u001b[0;32mand\u001b[0m\u001b[0;31m \u001b[0m\u001b[0;31m\\\u001b[0m\u001b[0;34m\u001b[0m\u001b[0;34m\u001b[0m\u001b[0m\n",
      "\u001b[0;32m/media/external_10TB/10TB/Behnamnia/AttentionRL/rl_env/lib/python3.6/site-packages/torch/utils/data/dataloader.py\u001b[0m in \u001b[0;36m_next_data\u001b[0;34m(self)\u001b[0m\n\u001b[1;32m    559\u001b[0m     \u001b[0;32mdef\u001b[0m \u001b[0m_next_data\u001b[0m\u001b[0;34m(\u001b[0m\u001b[0mself\u001b[0m\u001b[0;34m)\u001b[0m\u001b[0;34m:\u001b[0m\u001b[0;34m\u001b[0m\u001b[0;34m\u001b[0m\u001b[0m\n\u001b[1;32m    560\u001b[0m         \u001b[0mindex\u001b[0m \u001b[0;34m=\u001b[0m \u001b[0mself\u001b[0m\u001b[0;34m.\u001b[0m\u001b[0m_next_index\u001b[0m\u001b[0;34m(\u001b[0m\u001b[0;34m)\u001b[0m  \u001b[0;31m# may raise StopIteration\u001b[0m\u001b[0;34m\u001b[0m\u001b[0;34m\u001b[0m\u001b[0m\n\u001b[0;32m--> 561\u001b[0;31m         \u001b[0mdata\u001b[0m \u001b[0;34m=\u001b[0m \u001b[0mself\u001b[0m\u001b[0;34m.\u001b[0m\u001b[0m_dataset_fetcher\u001b[0m\u001b[0;34m.\u001b[0m\u001b[0mfetch\u001b[0m\u001b[0;34m(\u001b[0m\u001b[0mindex\u001b[0m\u001b[0;34m)\u001b[0m  \u001b[0;31m# may raise StopIteration\u001b[0m\u001b[0;34m\u001b[0m\u001b[0;34m\u001b[0m\u001b[0m\n\u001b[0m\u001b[1;32m    562\u001b[0m         \u001b[0;32mif\u001b[0m \u001b[0mself\u001b[0m\u001b[0;34m.\u001b[0m\u001b[0m_pin_memory\u001b[0m\u001b[0;34m:\u001b[0m\u001b[0;34m\u001b[0m\u001b[0;34m\u001b[0m\u001b[0m\n\u001b[1;32m    563\u001b[0m             \u001b[0mdata\u001b[0m \u001b[0;34m=\u001b[0m \u001b[0m_utils\u001b[0m\u001b[0;34m.\u001b[0m\u001b[0mpin_memory\u001b[0m\u001b[0;34m.\u001b[0m\u001b[0mpin_memory\u001b[0m\u001b[0;34m(\u001b[0m\u001b[0mdata\u001b[0m\u001b[0;34m)\u001b[0m\u001b[0;34m\u001b[0m\u001b[0;34m\u001b[0m\u001b[0m\n",
      "\u001b[0;32m/media/external_10TB/10TB/Behnamnia/AttentionRL/rl_env/lib/python3.6/site-packages/torch/utils/data/_utils/fetch.py\u001b[0m in \u001b[0;36mfetch\u001b[0;34m(self, possibly_batched_index)\u001b[0m\n\u001b[1;32m     45\u001b[0m         \u001b[0;32melse\u001b[0m\u001b[0;34m:\u001b[0m\u001b[0;34m\u001b[0m\u001b[0;34m\u001b[0m\u001b[0m\n\u001b[1;32m     46\u001b[0m             \u001b[0mdata\u001b[0m \u001b[0;34m=\u001b[0m \u001b[0mself\u001b[0m\u001b[0;34m.\u001b[0m\u001b[0mdataset\u001b[0m\u001b[0;34m[\u001b[0m\u001b[0mpossibly_batched_index\u001b[0m\u001b[0;34m]\u001b[0m\u001b[0;34m\u001b[0m\u001b[0;34m\u001b[0m\u001b[0m\n\u001b[0;32m---> 47\u001b[0;31m         \u001b[0;32mreturn\u001b[0m \u001b[0mself\u001b[0m\u001b[0;34m.\u001b[0m\u001b[0mcollate_fn\u001b[0m\u001b[0;34m(\u001b[0m\u001b[0mdata\u001b[0m\u001b[0;34m)\u001b[0m\u001b[0;34m\u001b[0m\u001b[0;34m\u001b[0m\u001b[0m\n\u001b[0m",
      "\u001b[0;32m<ipython-input-39-b9dacd37e3a9>\u001b[0m in \u001b[0;36mcollate_fn\u001b[0;34m(data)\u001b[0m\n\u001b[1;32m      4\u001b[0m     \u001b[0mselected_captions\u001b[0m \u001b[0;34m=\u001b[0m \u001b[0;34m[\u001b[0m\u001b[0;34m]\u001b[0m\u001b[0;34m\u001b[0m\u001b[0;34m\u001b[0m\u001b[0m\n\u001b[1;32m      5\u001b[0m     \u001b[0;32mfor\u001b[0m \u001b[0mi\u001b[0m\u001b[0;34m,\u001b[0m \u001b[0mimage\u001b[0m \u001b[0;32min\u001b[0m \u001b[0menumerate\u001b[0m\u001b[0;34m(\u001b[0m\u001b[0mimages\u001b[0m\u001b[0;34m)\u001b[0m\u001b[0;34m:\u001b[0m\u001b[0;34m\u001b[0m\u001b[0;34m\u001b[0m\u001b[0m\n\u001b[0;32m----> 6\u001b[0;31m         \u001b[0mpatched_images\u001b[0m\u001b[0;34m.\u001b[0m\u001b[0mappend\u001b[0m\u001b[0;34m(\u001b[0m\u001b[0mselect_patches\u001b[0m\u001b[0;34m(\u001b[0m\u001b[0mimage\u001b[0m\u001b[0;34m,\u001b[0m \u001b[0mdevice\u001b[0m\u001b[0;34m)\u001b[0m\u001b[0;34m)\u001b[0m\u001b[0;34m\u001b[0m\u001b[0;34m\u001b[0m\u001b[0m\n\u001b[0m\u001b[1;32m      7\u001b[0m         \u001b[0mu\u001b[0m \u001b[0;34m=\u001b[0m \u001b[0mnp\u001b[0m\u001b[0;34m.\u001b[0m\u001b[0mrandom\u001b[0m\u001b[0;34m.\u001b[0m\u001b[0mchoice\u001b[0m\u001b[0;34m(\u001b[0m\u001b[0mrange\u001b[0m\u001b[0;34m(\u001b[0m\u001b[0mlen\u001b[0m\u001b[0;34m(\u001b[0m\u001b[0mcaptions\u001b[0m\u001b[0;34m[\u001b[0m\u001b[0mi\u001b[0m\u001b[0;34m]\u001b[0m\u001b[0;34m)\u001b[0m\u001b[0;34m)\u001b[0m\u001b[0;34m)\u001b[0m\u001b[0;34m\u001b[0m\u001b[0;34m\u001b[0m\u001b[0m\n\u001b[1;32m      8\u001b[0m         \u001b[0mselected_captions\u001b[0m\u001b[0;34m.\u001b[0m\u001b[0mappend\u001b[0m\u001b[0;34m(\u001b[0m\u001b[0mcaptions\u001b[0m\u001b[0;34m[\u001b[0m\u001b[0mi\u001b[0m\u001b[0;34m]\u001b[0m\u001b[0;34m[\u001b[0m\u001b[0mu\u001b[0m\u001b[0;34m]\u001b[0m\u001b[0;34m)\u001b[0m\u001b[0;34m\u001b[0m\u001b[0;34m\u001b[0m\u001b[0m\n",
      "\u001b[0;32m<ipython-input-18-daec478581d7>\u001b[0m in \u001b[0;36mselect_patches\u001b[0;34m(image, device)\u001b[0m\n\u001b[1;32m      6\u001b[0m     \u001b[0mimage_array\u001b[0m \u001b[0;34m=\u001b[0m \u001b[0mnp\u001b[0m\u001b[0;34m.\u001b[0m\u001b[0mpad\u001b[0m\u001b[0;34m(\u001b[0m\u001b[0mimage_array\u001b[0m\u001b[0;34m,\u001b[0m \u001b[0;34m[\u001b[0m\u001b[0;34m(\u001b[0m\u001b[0;34m(\u001b[0m\u001b[0mH\u001b[0m\u001b[0;34m-\u001b[0m\u001b[0mh\u001b[0m\u001b[0;34m)\u001b[0m\u001b[0;34m//\u001b[0m\u001b[0;36m2\u001b[0m\u001b[0;34m,\u001b[0m \u001b[0;34m(\u001b[0m\u001b[0mH\u001b[0m\u001b[0;34m-\u001b[0m\u001b[0mh\u001b[0m\u001b[0;34m)\u001b[0m\u001b[0;34m-\u001b[0m\u001b[0;34m(\u001b[0m\u001b[0mH\u001b[0m\u001b[0;34m-\u001b[0m\u001b[0mh\u001b[0m\u001b[0;34m)\u001b[0m\u001b[0;34m//\u001b[0m\u001b[0;36m2\u001b[0m\u001b[0;34m)\u001b[0m\u001b[0;34m,\u001b[0m \u001b[0;34m(\u001b[0m\u001b[0;34m(\u001b[0m\u001b[0mW\u001b[0m\u001b[0;34m-\u001b[0m\u001b[0mw\u001b[0m\u001b[0;34m)\u001b[0m\u001b[0;34m//\u001b[0m\u001b[0;36m2\u001b[0m\u001b[0;34m,\u001b[0m \u001b[0;34m(\u001b[0m\u001b[0mW\u001b[0m\u001b[0;34m-\u001b[0m\u001b[0mw\u001b[0m\u001b[0;34m)\u001b[0m\u001b[0;34m-\u001b[0m\u001b[0;34m(\u001b[0m\u001b[0mW\u001b[0m\u001b[0;34m-\u001b[0m\u001b[0mw\u001b[0m\u001b[0;34m)\u001b[0m\u001b[0;34m//\u001b[0m\u001b[0;36m2\u001b[0m\u001b[0;34m)\u001b[0m\u001b[0;34m,\u001b[0m \u001b[0;34m(\u001b[0m\u001b[0;36m0\u001b[0m\u001b[0;34m,\u001b[0m \u001b[0;36m0\u001b[0m\u001b[0;34m)\u001b[0m\u001b[0;34m]\u001b[0m\u001b[0;34m,\u001b[0m \u001b[0mmode\u001b[0m\u001b[0;34m=\u001b[0m\u001b[0;34m'linear_ramp'\u001b[0m\u001b[0;34m)\u001b[0m\u001b[0;34m\u001b[0m\u001b[0;34m\u001b[0m\u001b[0m\n\u001b[1;32m      7\u001b[0m     \u001b[0mimage\u001b[0m \u001b[0;34m=\u001b[0m \u001b[0mImage\u001b[0m\u001b[0;34m.\u001b[0m\u001b[0mfromarray\u001b[0m\u001b[0;34m(\u001b[0m\u001b[0mimage_array\u001b[0m\u001b[0;34m)\u001b[0m\u001b[0;34m\u001b[0m\u001b[0;34m\u001b[0m\u001b[0m\n\u001b[0;32m----> 8\u001b[0;31m     \u001b[0mres\u001b[0m \u001b[0;34m=\u001b[0m \u001b[0mcam\u001b[0m\u001b[0;34m(\u001b[0m\u001b[0minput_tensor\u001b[0m\u001b[0;34m=\u001b[0m\u001b[0mdataset\u001b[0m\u001b[0;34m.\u001b[0m\u001b[0mtransform\u001b[0m\u001b[0;34m(\u001b[0m\u001b[0mimage\u001b[0m\u001b[0;34m)\u001b[0m\u001b[0;34m.\u001b[0m\u001b[0munsqueeze\u001b[0m\u001b[0;34m(\u001b[0m\u001b[0;36m0\u001b[0m\u001b[0;34m)\u001b[0m\u001b[0;34m.\u001b[0m\u001b[0mto\u001b[0m\u001b[0;34m(\u001b[0m\u001b[0mdevice\u001b[0m\u001b[0;34m)\u001b[0m\u001b[0;34m,\u001b[0m \u001b[0mtargets\u001b[0m\u001b[0;34m=\u001b[0m\u001b[0;32mNone\u001b[0m\u001b[0;34m)\u001b[0m\u001b[0;34m\u001b[0m\u001b[0;34m\u001b[0m\u001b[0m\n\u001b[0m\u001b[1;32m      9\u001b[0m     \u001b[0mres\u001b[0m \u001b[0;34m=\u001b[0m \u001b[0mres\u001b[0m\u001b[0;34m.\u001b[0m\u001b[0msqueeze\u001b[0m\u001b[0;34m(\u001b[0m\u001b[0;34m)\u001b[0m\u001b[0;34m\u001b[0m\u001b[0;34m\u001b[0m\u001b[0m\n\u001b[1;32m     10\u001b[0m     \u001b[0mimage_grids\u001b[0m \u001b[0;34m=\u001b[0m \u001b[0meinops\u001b[0m\u001b[0;34m.\u001b[0m\u001b[0mrearrange\u001b[0m\u001b[0;34m(\u001b[0m\u001b[0mimage_array\u001b[0m\u001b[0;34m,\u001b[0m \u001b[0;34m'(N h) (M w) C -> N M h w C'\u001b[0m\u001b[0;34m,\u001b[0m \u001b[0mh\u001b[0m\u001b[0;34m=\u001b[0m\u001b[0mgrid_size\u001b[0m\u001b[0;34m[\u001b[0m\u001b[0;36m1\u001b[0m\u001b[0;34m]\u001b[0m\u001b[0;34m,\u001b[0m \u001b[0mw\u001b[0m\u001b[0;34m=\u001b[0m\u001b[0mgrid_size\u001b[0m\u001b[0;34m[\u001b[0m\u001b[0;36m0\u001b[0m\u001b[0;34m]\u001b[0m\u001b[0;34m)\u001b[0m\u001b[0;34m\u001b[0m\u001b[0;34m\u001b[0m\u001b[0m\n",
      "\u001b[0;31mKeyboardInterrupt\u001b[0m: "
     ]
    }
   ],
   "source": [
    "bestLoss = 1.9\n",
    "n_epochs = 1\n",
    "for epoch in range(n_epochs):\n",
    "    total_loss = 0\n",
    "    total_accuracy = 0\n",
    "    count = 0\n",
    "    for img, cap_in, cap_out, attn, cap_name in tqdm(dataloader):\n",
    "        N, T, C, H, W = img.shape\n",
    "        img = img.to(device)\n",
    "        cap_in = cap_in.to(device)\n",
    "        cap_out = cap_out.to(device)\n",
    "        attn = attn.to(device)\n",
    "        with torch.no_grad():\n",
    "            features = torch.mean(m.forward_features(einops.rearrange(img, 'N T C H W -> (N T) C H W')), dim=(-1, -2))\n",
    "        features = einops.rearrange(features, '(N T) F -> N T F', T = T)\n",
    "        for t in range(T):\n",
    "            step_features = features[:, :(t + 1)]\n",
    "            attn = get_random_level(attn)\n",
    "            output = value_network(cap_in, attn, features)\n",
    "            break\n",
    "#         out = einops.rearrange(output.logits, 'N T P -> N P T')\n",
    "#         loss = torch.mean(torch.sum(criterion(out, cap_out) * attn, dim=-1) / torch.sum(attn, dim=-1))\n",
    "#         total_loss += loss.item() * N\n",
    "#         count += N\n",
    "#         total_accuracy += torch.mean(torch.sum((torch.argmax(out, dim=1) == cap_out) * attn, dim=-1) / torch.sum(attn, dim=-1)).item() * N    \n",
    "#         optimizer.zero_grad()\n",
    "#         loss.backward()\n",
    "#         optimizer.step()\n",
    "#     total_loss /= count\n",
    "#     total_accuracy /= count\n",
    "#     print(\"Epoch:\", epoch + 1, \"loss:\", total_loss, \"Acc:\", total_accuracy * 100)\n",
    "#     if total_loss < bestLoss:\n",
    "#         bestLoss = total_loss\n",
    "#         torch.save(policy_network.state_dict(), \"Models/policy_network.pt\")\n",
    "#         print('----Best model saved.')\n",
    "        "
   ]
  },
  {
   "cell_type": "code",
   "execution_count": null,
   "metadata": {},
   "outputs": [],
   "source": []
  },
  {
   "cell_type": "code",
   "execution_count": null,
   "metadata": {},
   "outputs": [],
   "source": []
  }
 ],
 "metadata": {
  "kernelspec": {
   "display_name": "Python 3",
   "language": "python",
   "name": "python3"
  },
  "language_info": {
   "codemirror_mode": {
    "name": "ipython",
    "version": 3
   },
   "file_extension": ".py",
   "mimetype": "text/x-python",
   "name": "python",
   "nbconvert_exporter": "python",
   "pygments_lexer": "ipython3",
   "version": "3.6.8"
  }
 },
 "nbformat": 4,
 "nbformat_minor": 5
}
