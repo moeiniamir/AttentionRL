{
 "cells": [
  {
   "cell_type": "markdown",
   "metadata": {},
   "source": [
    "predict the pos_mask given the:\n",
    "- vocab\n",
    "- hidden output\n",
    "of beit using a MLP head.\n",
    "\n",
    "if one succeeds: we can use it as the core of actor.\n",
    "if none succeeds: we need another way."
   ]
  },
  {
   "cell_type": "code",
   "execution_count": null,
   "metadata": {},
   "outputs": [],
   "source": [
    "from env import LimitedHistory\n",
    "import torch\n",
    "import torch.utils.data as D\n",
    "from dataset import COCODataset\n",
    "from matplotlib import pyplot as plt\n",
    "import einops\n",
    "import time\n",
    "import IPython\n",
    "import os\n",
    "import torch\n",
    "from torch import nn\n",
    "import torch.nn.functional as F\n",
    "from torchvision import transforms\n",
    "from torchvision.datasets import MNIST\n",
    "from torch.utils.data import DataLoader\n",
    "import lightning.pytorch as pl\n",
    "from transformers import BeitForMaskedImageModeling\n",
    "from lightning.pytorch.loggers import WandbLogger\n"
   ]
  },
  {
   "cell_type": "code",
   "execution_count": null,
   "metadata": {},
   "outputs": [],
   "source": [
    "class CustomLimitedHistory(LimitedHistory):\n",
    "    def __init__(self, max_len, width, height, patch_size):\n",
    "        self.max_len = max_len\n",
    "        self.patch_size = patch_size\n",
    "        self.loc_to_patch = {}\n",
    "        self.loc_history = []\n",
    "        self.image = None\n",
    "\n",
    "        self.canvas = torch.zeros((3, height, width),\n",
    "                                  dtype=torch.float32)\n",
    "        self.kmask = torch.ones(\n",
    "            height, width, dtype=torch.bool)\n",
    "        self.max_row = height // patch_size[0]\n",
    "        self.max_col = width // patch_size[1]\n",
    "        \n",
    "    def set_image(self, image):\n",
    "        self.loc_history = []\n",
    "        self.loc_to_patch = {}\n",
    "        self.image = image\n",
    "        \n",
    "    def _set_patch(self, p, on, row, col):\n",
    "        top = self.patch_size[0] * row\n",
    "        bottom = top + self.patch_size[0]\n",
    "        left = self.patch_size[1] * col\n",
    "        right = left + self.patch_size[1]\n",
    "        on[..., top:bottom, left:right] = p\n",
    "\n",
    "    def append(self, row, col):\n",
    "        patch = self.image[:, row * self.patch_size[0]:(row + 1) * self.patch_size[0],\n",
    "                           col * self.patch_size[1]:(col + 1) * self.patch_size[1]]\n",
    "        self.loc_history.append((row, col))\n",
    "        self.loc_to_patch[(row, col)] = patch\n",
    "        \n",
    "    def mask_randomly(self, count=None, percent=None):\n",
    "        assert count is not None or percent is not None, 'count or percent must be specified'\n",
    "        assert count is None or percent is None, 'only one of count or percent must be specified'\n",
    "        if percent is not None:\n",
    "            count = int(percent * self.max_row * self.max_col)\n",
    "        for _ in range(count):\n",
    "            random_loc = (torch.randint(0, self.max_row, (1,)).item(),\n",
    "                            torch.randint(0, self.max_col, (1,)).item())\n",
    "            self.append(*random_loc)\n",
    "            \n",
    "\n",
    "    def _fill_canvas(self):\n",
    "        self.kmask.fill_(0)\n",
    "        self.canvas.fill_(0)\n",
    "        for loc in self.loc_history:\n",
    "            self._set_patch(self.loc_to_patch[loc], self.canvas, *loc)\n",
    "            self._set_patch(1, self.kmask, *loc)\n",
    "            \n",
    "    def get_history_dict(self):\n",
    "        self._fill_canvas()\n",
    "        return {\n",
    "            'history': self.canvas,\n",
    "            'kmask': self.kmask,\n",
    "        }"
   ]
  },
  {
   "cell_type": "code",
   "execution_count": null,
   "metadata": {},
   "outputs": [],
   "source": [
    "class MaskerDataset(COCODataset):\n",
    "    def __init__(self, percent, *args, **kwargs):\n",
    "        super().__init__(*args, **kwargs)\n",
    "        self.percent = percent\n",
    "        self.history = CustomLimitedHistory(None, 224, 224, (32, 32))\n",
    "\n",
    "    \n",
    "    def __getitem__(self, idx):\n",
    "        image, _, _ = super().__getitem__(idx)\n",
    "        self.history.set_image(image)\n",
    "        self.history.mask_randomly(percent=self.percent)\n",
    "        return self.history.get_history_dict()\n",
    "        "
   ]
  },
  {
   "cell_type": "code",
   "execution_count": null,
   "metadata": {},
   "outputs": [],
   "source": [
    "\n",
    "class MaskPredictor(pl.LightningModule):\n",
    "    def __init__(self, lr=3e-4):\n",
    "        super().__init__()\n",
    "        self.model = BeitForMaskedImageModeling.from_pretrained('microsoft/beit-base-patch16-224-pt22k', \n",
    "                                                   proxies={'http': '127.0.0.1:10809', 'https': '127.0.0.1:10809'},)\n",
    "        self.linear = nn.Linear(self.model.config.vocab_size, 1)\n",
    "        self.lr = lr\n",
    "        self.loss = nn.BCEWithLogitsLoss()\n",
    "        \n",
    "    def forward(self, *args, **kwargs):\n",
    "        out = self.model(*args, **kwargs)\n",
    "        mask = self.linear(out.logits).squeeze(-1)\n",
    "        return mask\n",
    "    \n",
    "    def training_step(self, batch, batch_idx):\n",
    "        canvas, mask = batch['history'], batch['kmask']\n",
    "        mask = mask[:, ::self.model.config.patch_size, ::self.model.config.patch_size].flatten(1)\n",
    "        mask_hat = self(pixel_values=canvas, bool_masked_pos=mask)\n",
    "        loss = self.loss(mask_hat, mask.to(torch.float32))\n",
    "        self.log('train_loss', loss)\n",
    "        return loss\n",
    "    \n",
    "    def validation_step(self, batch, batch_idx):\n",
    "        canvas, mask = batch['history'], batch['kmask']\n",
    "        mask = mask[:, ::self.model.config.patch_size, ::self.model.config.patch_size].flatten(1)\n",
    "        mask_hat = self(pixel_values=canvas, bool_masked_pos=mask)\n",
    "        loss = self.loss(mask_hat, mask.to(torch.float32))\n",
    "        self.log('val_loss', loss)\n",
    "    \n",
    "    def configure_optimizers(self):\n",
    "        return torch.optim.Adam(self.parameters(), lr=self.lr)"
   ]
  },
  {
   "cell_type": "code",
   "execution_count": null,
   "metadata": {},
   "outputs": [],
   "source": [
    "torch.set_float32_matmul_precision('medium')"
   ]
  },
  {
   "cell_type": "code",
   "execution_count": null,
   "metadata": {},
   "outputs": [],
   "source": [
    "dataset = MaskerDataset(.7, train=True, length=100000, no_seg=True, fix_resize=(224, 224))\n",
    "seed = torch.Generator().manual_seed(42)\n",
    "train_set_size = int(len(dataset) * .8)\n",
    "valid_set_size = len(dataset) - train_set_size\n",
    "train_set, valid_set = D.random_split(dataset, [train_set_size, valid_set_size], generator=seed)\n",
    "train_loader = DataLoader(train_set, batch_size=32, num_workers=4)\n",
    "valid_loader = DataLoader(valid_set, batch_size=32, num_workers=4)"
   ]
  },
  {
   "cell_type": "code",
   "execution_count": null,
   "metadata": {},
   "outputs": [],
   "source": [
    "trainer = pl.Trainer(devices=1, max_epochs=10)\n",
    "model = MaskPredictor()\n",
    "wandb_logger = WandbLogger(project=\"AttentionRL\")"
   ]
  },
  {
   "cell_type": "code",
   "execution_count": null,
   "metadata": {},
   "outputs": [],
   "source": [
    "# for i in range(100):\n",
    "#     dict = dataset[i]\n",
    "#     canvas = dict['history'].to(torch.float32)\n",
    "#     kmask = dict['kmask']\n",
    "#     IPython.display.clear_output(wait=True)\n",
    "#     plt.imshow(einops.rearrange(canvas, 'c h w -> h w c'))\n",
    "#     IPython.display.display(plt.gcf())\n",
    "#     plt.imshow(kmask)\n",
    "#     IPython.display.display(plt.gcf())\n",
    "#     time.sleep(1)"
   ]
  }
 ],
 "metadata": {
  "kernelspec": {
   "display_name": "rl",
   "language": "python",
   "name": "python3"
  },
  "language_info": {
   "codemirror_mode": {
    "name": "ipython",
    "version": 3
   },
   "file_extension": ".py",
   "mimetype": "text/x-python",
   "name": "python",
   "nbconvert_exporter": "python",
   "pygments_lexer": "ipython3",
   "version": "3.10.12"
  },
  "orig_nbformat": 4
 },
 "nbformat": 4,
 "nbformat_minor": 2
}
