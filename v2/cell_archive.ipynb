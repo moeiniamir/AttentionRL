{
 "cells": [
  {
   "cell_type": "markdown",
   "metadata": {},
   "source": [
    "---"
   ]
  },
  {
   "cell_type": "code",
   "execution_count": null,
   "metadata": {},
   "outputs": [],
   "source": [
    "from transformers import AutoImageProcessor, ViTMAEModel, ViTMAEConfig\n",
    "from PIL import Image\n",
    "import requests\n",
    "\n",
    "url = 'http://images.cocodataset.org/val2017/000000039769.jpg'\n",
    "image = Image.open(requests.get(url, stream=True).raw)\n",
    "\n",
    "processor = AutoImageProcessor.from_pretrained('facebook/vit-mae-base')\n",
    "config = ViTMAEConfig.from_pretrained('facebook/vit-mae-base',\n",
    "                                             proxies={'http': '127.0.0.1:10809', 'https': '127.0.0.1:10809'},)\n",
    "model = ViTMAEModel.from_pretrained('facebook/vit-mae-base', config=config)\n",
    "\n",
    "inputs = processor(images=image, return_tensors=\"pt\")\n",
    "outputs = model(**inputs)\n",
    "# loss = outputs.loss\n",
    "# mask = outputs.mask\n",
    "# ids_restore = outputs.ids_restore"
   ]
  },
  {
   "cell_type": "markdown",
   "metadata": {},
   "source": [
    "---"
   ]
  },
  {
   "cell_type": "code",
   "execution_count": null,
   "metadata": {},
   "outputs": [],
   "source": [
    "dataset = COCODataset(train=True, indices=[\n",
    "                        4385], no_seg=False, fix_resize=(224-3*16, 224-3*16))\n",
    "env = TimeLimit(Environment(dataset,\n",
    "                            config['env_patch_size'],\n",
    "                            max_len=config['env_step_mem'],\n",
    "                            n_last_positions=config['n_last_positions']\n",
    "                            ),\n",
    "                config['env_step_limit_test'])\n",
    "obs, _ = env.reset()\n",
    "display.clear_output()\n"
   ]
  },
  {
   "cell_type": "code",
   "execution_count": null,
   "metadata": {},
   "outputs": [],
   "source": [
    "obs, *_ = env.step(Actions.LEFT)"
   ]
  },
  {
   "cell_type": "code",
   "execution_count": null,
   "metadata": {},
   "outputs": [],
   "source": [
    "batch = ts.data.Batch(\n",
    "                obs=[obs],\n",
    "                info=None\n",
    ")"
   ]
  },
  {
   "cell_type": "code",
   "execution_count": null,
   "metadata": {},
   "outputs": [
    {
     "data": {
      "text/plain": [
       "Sequential(\n",
       "  (0): Linear(in_features=768, out_features=256, bias=True)\n",
       "  (1): Tanh()\n",
       "  (2): Linear(in_features=256, out_features=256, bias=True)\n",
       "  (3): Tanh()\n",
       "  (4): Linear(in_features=256, out_features=4, bias=True)\n",
       ")"
      ]
     },
     "metadata": {},
     "output_type": "display_data"
    }
   ],
   "source": [
    "policy.actor.last.model"
   ]
  },
  {
   "cell_type": "code",
   "execution_count": null,
   "metadata": {},
   "outputs": [],
   "source": [
    "def fn(model, before, after):\n",
    "    print(before[0], len(before))\n",
    "hook.remove()\n",
    "hook = policy.actor.last.model[4].register_forward_hook(fn)"
   ]
  },
  {
   "cell_type": "code",
   "execution_count": null,
   "metadata": {},
   "outputs": [
    {
     "name": "stdout",
     "output_type": "stream",
     "text": [
      "tensor([[-0.4412,  0.3935, -0.4794, -0.4694,  0.1914, -0.3729,  0.5413,  0.4507,\n",
      "         -0.4042,  0.0813, -0.6948, -0.0279,  0.3417,  0.6888,  0.0277, -0.4753,\n",
      "         -0.3869, -0.6262,  0.4217,  0.3576,  0.5191, -0.7464, -0.4336,  0.6548,\n",
      "         -0.5025, -0.3824,  0.1155, -0.3705,  0.7563, -0.5457, -0.6231,  0.4586,\n",
      "         -0.1848, -0.5123, -0.7279,  0.2424,  0.7541, -0.6735, -0.3503,  0.3921,\n",
      "         -0.7482, -0.3349,  0.6840, -0.1990, -0.4735,  0.6222, -0.4221,  0.0397,\n",
      "         -0.4884, -0.2647,  0.2264,  0.3357, -0.4728, -0.6408,  0.4939,  0.7227,\n",
      "          0.4108, -0.7718,  0.7356,  0.7333,  0.1707,  0.7470,  0.5139,  0.2295,\n",
      "         -0.2758, -0.2163,  0.6408,  0.4094,  0.4980,  0.6451, -0.1796,  0.3429,\n",
      "         -0.2460,  0.5117,  0.1180,  0.8295, -0.4497,  0.5800, -0.5001, -0.3134,\n",
      "         -0.7834, -0.6280, -0.1393, -0.4008,  0.4036,  0.3517, -0.3313, -0.2097,\n",
      "          0.5874, -0.4614,  0.3462, -0.7357,  0.7858, -0.4433,  0.3725,  0.5703,\n",
      "         -0.3486, -0.1933, -0.6285,  0.3872,  0.5256,  0.5578, -0.1441,  0.3970,\n",
      "         -0.7578,  0.1030, -0.2312,  0.3307,  0.2304,  0.2321, -0.6206, -0.7127,\n",
      "         -0.5784, -0.4462,  0.4950,  0.4319, -0.2013, -0.3952, -0.6866, -0.2836,\n",
      "          0.7031,  0.2903, -0.2191, -0.5166, -0.0503,  0.7029, -0.4288, -0.1624,\n",
      "         -0.3411, -0.5810, -0.7586, -0.6325,  0.1874,  0.1495, -0.6708, -0.4383,\n",
      "         -0.2668, -0.4818,  0.3340, -0.3716, -0.5645, -0.6832,  0.6565,  0.3781,\n",
      "         -0.3652,  0.5327, -0.7173,  0.3563, -0.3965, -0.0747, -0.6190,  0.7035,\n",
      "         -0.0961, -0.0746, -0.4701,  0.5675, -0.1022, -0.0419, -0.6458,  0.5302,\n",
      "          0.7735, -0.4402,  0.7153,  0.2268, -0.5409, -0.0242,  0.7341,  0.7318,\n",
      "          0.2416,  0.2525, -0.0667,  0.4645,  0.4971,  0.6728, -0.2149, -0.2028,\n",
      "         -0.6097, -0.1771, -0.7876, -0.7685,  0.2918, -0.2267, -0.5805,  0.6750,\n",
      "         -0.4043,  0.7485,  0.4874,  0.2248,  0.7153,  0.1830, -0.6219, -0.4089,\n",
      "          0.4055, -0.7620,  0.6410,  0.5696, -0.4351,  0.7212, -0.5832, -0.6977,\n",
      "          0.4662, -0.5761,  0.7233, -0.3823, -0.6739, -0.5860,  0.2151, -0.0516,\n",
      "          0.0523,  0.4777, -0.6628, -0.2055,  0.3105, -0.6698,  0.2002,  0.5053,\n",
      "         -0.6772,  0.4161, -0.0376,  0.3105,  0.3942, -0.3248, -0.2490, -0.4536,\n",
      "         -0.5823,  0.6727, -0.4173, -0.5696,  0.4506,  0.7844, -0.7207,  0.3339,\n",
      "         -0.6505, -0.5522,  0.4842, -0.1721, -0.2254,  0.7276,  0.6025, -0.0178,\n",
      "         -0.2644, -0.3137,  0.5218, -0.4883, -0.1096, -0.7089,  0.6031, -0.2694,\n",
      "          0.2839, -0.5938,  0.6518, -0.5719,  0.2316,  0.2316, -0.2814, -0.6486]],\n",
      "       device='cuda:1', grad_fn=<TanhBackward0>) 1\n"
     ]
    }
   ],
   "source": [
    "batch_out = policy(batch)"
   ]
  },
  {
   "cell_type": "code",
   "execution_count": null,
   "metadata": {},
   "outputs": [
    {
     "data": {
      "text/plain": [
       "tensor([[ -2.9156,  11.7836,  -2.5068, -14.9789]], device='cuda:1',\n",
       "       grad_fn=<AddmmBackward0>)"
      ]
     },
     "metadata": {},
     "output_type": "display_data"
    }
   ],
   "source": [
    "batch_out.logits"
   ]
  }
 ],
 "metadata": {
  "language_info": {
   "name": "python"
  },
  "orig_nbformat": 4
 },
 "nbformat": 4,
 "nbformat_minor": 2
}
