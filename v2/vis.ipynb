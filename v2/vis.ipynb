{
 "cells": [
  {
   "cell_type": "code",
   "execution_count": 2,
   "metadata": {},
   "outputs": [],
   "source": [
    "import einops\n",
    "import os\n",
    "\n",
    "import matplotlib.pyplot as plt\n",
    "import numpy as np\n",
    "from tianshou.policy import PPOPolicy\n",
    "import uuid\n",
    "from tianshou.utils import WandbLogger, LazyLogger\n",
    "from torch.utils.tensorboard import SummaryWriter\n",
    "from gymnasium.wrappers import TimeLimit\n",
    "from customs import CustomDQNPolicy, CustomOffpolicyTrainer\n",
    "from dataset import *\n",
    "from env import *\n",
    "from networks.qnet import *\n",
    "from networks.vit import ViTTrailEncoder\n",
    "from networks.SimpleAC import Actor as SimpleActor, Critic as SimpleCritic\n",
    "from tianshou.utils.net.common import ActorCritic\n",
    "from tianshou.utils.net.discrete import Actor, Critic, IntrinsicCuriosityModule\n",
    "from tianshou.trainer import OnpolicyTrainer\n",
    "import torch\n",
    "import tianshou as ts\n",
    "from networks.mul_AC import Actor as MulActor, Critic as MulCritic\n",
    "from networks.path_vit import BaseNetwork as MulBaseNetwork\n",
    "import torch.nn.functional as F\n",
    "import random\n",
    "from networks.simmim import BaseNetwork as SimmimBase\n",
    "from transformers import BeitFeatureExtractor, BeitForMaskedImageModeling, BeitImageProcessor\n",
    "from PIL import Image\n",
    "import requests\n",
    "import seaborn as sns\n",
    "import IPython\n",
    "import time"
   ]
  },
  {
   "cell_type": "code",
   "execution_count": 3,
   "metadata": {},
   "outputs": [],
   "source": [
    "url = 'http://images.cocodataset.org/val2017/000000039769.jpg'\n",
    "image = Image.open(requests.get(url, stream=True).raw)\n",
    "\n",
    "feature_extractor = BeitImageProcessor.from_pretrained('microsoft/beit-base-patch16-224-pt22k')\n",
    "model = BeitForMaskedImageModeling.from_pretrained('microsoft/beit-base-patch16-224-pt22k', \n",
    "                                                   proxies={'http': '127.0.0.1:10809', 'https': '127.0.0.1:10809'},)\n",
    "\n",
    "inputs = feature_extractor(images=image, return_tensors=\"pt\")\n",
    "outputs = model(**inputs)\n",
    "logits = outputs.logits\n",
    "image_tensor = inputs.pixel_values[0]"
   ]
  },
  {
   "cell_type": "code",
   "execution_count": null,
   "metadata": {},
   "outputs": [],
   "source": [
    "fig, axes = plt.subplots(1, 2, figsize=(20, 10))\n",
    "for idx in range(logits.shape[1]):\n",
    "    row_logits = logits[0, idx, :]\n",
    "    probs = F.softmax(row_logits, dim=0).detach()\n",
    "    axes[0].cla()\n",
    "    axes[0].set(ylim=(0, .5))\n",
    "    sns.lineplot(x=list(range(len(probs))), y=probs, color=\"salmon\", ax=axes[0])\n",
    "    row = idx // (224//16)\n",
    "    row *= 16\n",
    "    col = idx % (224//16)\n",
    "    col *= 16\n",
    "    highlighted_image = image_tensor.clone()\n",
    "    highlighted_image[:, row:row+16, col:col+16] = highlighted_image[:, row:row+16, col:col+16] * 0.5\n",
    "    axes[1].imshow(highlighted_image.permute(1, 2, 0).cpu().numpy())\n",
    "    IPython.display.clear_output(wait=True)\n",
    "    IPython.display.display(fig)\n",
    "    time.sleep(.2)"
   ]
  },
  {
   "cell_type": "code",
   "execution_count": null,
   "metadata": {},
   "outputs": [],
   "source": [
    "def get_row_col(idx):\n",
    "    row = idx // (224//16)\n",
    "    row *= 16\n",
    "    col = idx % (224//16)\n",
    "    col *= 16\n",
    "    return row, col"
   ]
  },
  {
   "cell_type": "code",
   "execution_count": null,
   "metadata": {},
   "outputs": [],
   "source": [
    "fig, axes = plt.subplots(1, 2, figsize=(20, 10))\n",
    "axes[0].imshow(image_tensor.permute(1, 2, 0).cpu().numpy())\n",
    "for idx in range(logits.shape[1]):\n",
    "    row_logits = logits[0, idx, :].detach()\n",
    "    probs = F.softmax(row_logits, dim=0)\n",
    "    row, col = get_row_col(idx)\n",
    "    highlighted_image = image_tensor.clone()\n",
    "    highlighted_image[:, row:row+16, col:col+16] = (highlighted_image[:, row:row+16, col:col+16] + 1)/2\n",
    "    \n",
    "    score_list = []\n",
    "    for idxc in range(logits.shape[1]):\n",
    "        if idxc == idx:\n",
    "            continue\n",
    "        rowc_logits = logits[0, idxc, :].detach()\n",
    "        score = row_logits@rowc_logits\n",
    "        score_list.append(score)\n",
    "    max, min = np.max(score_list), np.min(score_list)\n",
    "    for idxc in range(logits.shape[1]):\n",
    "        if idxc == idx:\n",
    "            continue\n",
    "        rowc_logits = logits[0, idxc, :].detach()\n",
    "        rowc, colc = get_row_col(idxc)\n",
    "        score = row_logits@rowc_logits\n",
    "        highlighted_image[:, rowc:rowc+16, colc:colc+16] = highlighted_image[:, rowc:rowc+16, colc:colc+16] * ((score-min)/(max-min))\n",
    "\n",
    "    axes[1].imshow(highlighted_image.permute(1, 2, 0).cpu().numpy())\n",
    "    \n",
    "    IPython.display.clear_output(wait=True)\n",
    "    IPython.display.display(fig)\n",
    "    time.sleep(.5)"
   ]
  }
 ],
 "metadata": {
  "kernelspec": {
   "display_name": "rl",
   "language": "python",
   "name": "python3"
  },
  "language_info": {
   "codemirror_mode": {
    "name": "ipython",
    "version": 3
   },
   "file_extension": ".py",
   "mimetype": "text/x-python",
   "name": "python",
   "nbconvert_exporter": "python",
   "pygments_lexer": "ipython3",
   "version": "3.10.12"
  },
  "orig_nbformat": 4
 },
 "nbformat": 4,
 "nbformat_minor": 2
}
