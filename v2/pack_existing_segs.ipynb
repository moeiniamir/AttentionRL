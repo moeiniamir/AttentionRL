{
 "cells": [
  {
   "cell_type": "code",
   "execution_count": 1,
   "metadata": {
    "ExecuteTime": {
     "end_time": "2023-05-23T07:18:45.726497207Z",
     "start_time": "2023-05-23T07:18:45.626016581Z"
    },
    "collapsed": false
   },
   "outputs": [],
   "source": [
    "# parallelize the above code over 8 processes\n",
    "from multiprocessing import Pool\n",
    "from pathlib import Path\n",
    "import numpy as np\n",
    "import pickle\n",
    "import os\n",
    "import datetime"
   ]
  },
  {
   "cell_type": "code",
   "execution_count": 4,
   "metadata": {
    "ExecuteTime": {
     "end_time": "2023-05-22T14:48:24.481994174Z",
     "start_time": "2023-05-22T14:48:24.480023311Z"
    },
    "collapsed": false
   },
   "outputs": [],
   "source": [
    "def pack_seg_out(seg_out):\n",
    "    seg = np.stack(seg_out['masks'], axis=0)\n",
    "    new_seg_out = {\n",
    "        'packed_masks': np.packbits(seg, axis=1),\n",
    "        'original_shape': seg.shape,\n",
    "        'scores': seg_out['scores'],\n",
    "    }\n",
    "    return new_seg_out"
   ]
  },
  {
   "cell_type": "code",
   "execution_count": 15,
   "metadata": {
    "ExecuteTime": {
     "end_time": "2023-05-22T14:58:31.670895362Z",
     "start_time": "2023-05-22T14:58:31.655279449Z"
    },
    "collapsed": false
   },
   "outputs": [],
   "source": [
    "def unpack_new_seg_out(new_seg_out):\n",
    "    original_shape = new_seg_out['original_shape']\n",
    "    seg = np.unpackbits(new_seg_out['packed_masks'], axis=1)[:, :original_shape[1], :original_shape[2]]\n",
    "    return seg"
   ]
  },
  {
   "cell_type": "code",
   "execution_count": null,
   "metadata": {
    "collapsed": false
   },
   "outputs": [],
   "source": [
    "def pack_and_replace(file):\n",
    "    try:\n",
    "        with open(file, 'rb') as f:\n",
    "            seg_out = pickle.load(f)\n",
    "    except Exception as e:\n",
    "        print('error while loading', file)\n",
    "        raise e\n",
    "    if 'packed_masks' in seg_out:\n",
    "        return\n",
    "    try:\n",
    "        new_seg_out = pack_seg_out(seg_out)\n",
    "    except Exception as e:\n",
    "        print('error while packing', file)\n",
    "        raise e\n",
    "    try:\n",
    "        with open(file, 'wb') as f:\n",
    "            pickle.dump(new_seg_out, f)\n",
    "    except Exception as e:\n",
    "        print('error while saving', file)\n",
    "        raise e"
   ]
  },
  {
   "cell_type": "code",
   "execution_count": 5,
   "metadata": {
    "collapsed": false
   },
   "outputs": [],
   "source": [
    "if __name__ == '__main__':\n",
    "    # iterate over all files in ../Data/COCO17/train2017seg/\n",
    "    files = [file for file in Path('../Data/COCO17/train2017seg/').iterdir()]\n",
    "    # separate files that are older than 15:00:00 may 22 2023\n",
    "    files = [file for file in files if os.path.getmtime(file) < datetime.datetime(2023, 5, 22, 15, 0, 0).timestamp()]"
   ]
  },
  {
   "cell_type": "code",
   "execution_count": null,
   "metadata": {
    "collapsed": false
   },
   "outputs": [],
   "source": [
    "if __name__ == '__main__':\n",
    "    with Pool(18) as p:\n",
    "        p.map(pack_and_replace, files)"
   ]
  }
 ],
 "metadata": {
  "kernelspec": {
   "display_name": "Python 3",
   "language": "python",
   "name": "python3"
  },
  "language_info": {
   "codemirror_mode": {
    "name": "ipython",
    "version": 2
   },
   "file_extension": ".py",
   "mimetype": "text/x-python",
   "name": "python",
   "nbconvert_exporter": "python",
   "pygments_lexer": "ipython2",
   "version": "2.7.6"
  }
 },
 "nbformat": 4,
 "nbformat_minor": 0
}
