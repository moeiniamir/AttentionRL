{
 "cells": [
  {
   "cell_type": "code",
   "execution_count": 3,
   "id": "e423f6c5",
   "metadata": {},
   "outputs": [],
   "source": [
    "import json\n",
    "import os\n",
    "import re"
   ]
  },
  {
   "cell_type": "code",
   "execution_count": 2,
   "id": "9c3691f8",
   "metadata": {},
   "outputs": [],
   "source": [
    "data_root = \"Data/COCO/\""
   ]
  },
  {
   "cell_type": "code",
   "execution_count": 3,
   "id": "3f8cd146",
   "metadata": {},
   "outputs": [],
   "source": [
    "captions_train = json.load(open(os.path.join(data_root, 'annotations/captions_train2014.json'), 'r'))"
   ]
  },
  {
   "cell_type": "code",
   "execution_count": 6,
   "id": "a3a05f18",
   "metadata": {},
   "outputs": [],
   "source": [
    "vocab = {'<PAD>': 0,\n",
    "         '<START>': 1, \n",
    "         '<END>': 2,\n",
    "         '<UNK>': 3,\n",
    "         '<NOTH>': 4}\n",
    "freq = {}\n",
    "vocab_size = 5\n",
    "for item in captions_train['annotations']:\n",
    "    caption = item['caption']\n",
    "    caption = caption.replace(\".\", \"\")\n",
    "    caption = caption.lower()\n",
    "    caption = re.sub('[ ][ ]+', ' ', caption)\n",
    "    caption = caption.strip()\n",
    "    tokens = caption.split(' ')\n",
    "    token_ids = [vocab['<START>']]\n",
    "    for token in tokens:\n",
    "        if token not in vocab:\n",
    "            vocab[token] = vocab_size\n",
    "            vocab_size += 1\n",
    "        token_ids.append(vocab[token])\n",
    "        if token not in freq:\n",
    "            freq[token] = 1\n",
    "        else:\n",
    "            freq[token] += 1\n",
    "    token_ids.append(vocab['<END>'])\n",
    "    item['caption_ids'] = token_ids"
   ]
  },
  {
   "cell_type": "code",
   "execution_count": 7,
   "id": "990fc821",
   "metadata": {},
   "outputs": [
    {
     "data": {
      "text/plain": [
       "{'image_id': 379340,\n",
       " 'id': 188,\n",
       " 'caption': 'A vandalized stop sign and a red beetle on the road',\n",
       " 'caption_ids': [1, 5, 39, 31, 32, 8, 5, 37, 40, 41, 34, 42, 2]}"
      ]
     },
     "execution_count": 7,
     "metadata": {},
     "output_type": "execute_result"
    }
   ],
   "source": [
    "captions_train['annotations'][5]"
   ]
  },
  {
   "cell_type": "code",
   "execution_count": 9,
   "id": "fed1ffeb",
   "metadata": {},
   "outputs": [],
   "source": [
    "json.dump(captions_train, open(os.path.join(data_root, 'annotations/captions_train2014_w_ids.json'), 'w'), indent=1)"
   ]
  },
  {
   "cell_type": "code",
   "execution_count": 12,
   "id": "ebf8be54",
   "metadata": {},
   "outputs": [
    {
     "data": {
      "text/plain": [
       "30035"
      ]
     },
     "execution_count": 12,
     "metadata": {},
     "output_type": "execute_result"
    }
   ],
   "source": [
    "len(vocab)"
   ]
  },
  {
   "cell_type": "code",
   "execution_count": 14,
   "id": "f64d809e",
   "metadata": {},
   "outputs": [
    {
     "data": {
      "text/plain": [
       "414113"
      ]
     },
     "execution_count": 14,
     "metadata": {},
     "output_type": "execute_result"
    }
   ],
   "source": [
    "len(captions_train['annotations'])"
   ]
  },
  {
   "cell_type": "code",
   "execution_count": 19,
   "id": "425f52aa",
   "metadata": {},
   "outputs": [],
   "source": [
    "top_words = {k:v for k, v in freq.items() if v >= 5}"
   ]
  },
  {
   "cell_type": "code",
   "execution_count": 20,
   "id": "04879449",
   "metadata": {},
   "outputs": [
    {
     "data": {
      "text/plain": [
       "9713"
      ]
     },
     "execution_count": 20,
     "metadata": {},
     "output_type": "execute_result"
    }
   ],
   "source": [
    "len(top_words)"
   ]
  },
  {
   "cell_type": "code",
   "execution_count": 22,
   "id": "35315a56",
   "metadata": {},
   "outputs": [],
   "source": [
    "important_words = set(top_words.keys())"
   ]
  },
  {
   "cell_type": "code",
   "execution_count": 25,
   "id": "a846ae6c",
   "metadata": {},
   "outputs": [
    {
     "data": {
      "text/plain": [
       "11666"
      ]
     },
     "execution_count": 25,
     "metadata": {},
     "output_type": "execute_result"
    }
   ],
   "source": [
    "freq['cat']"
   ]
  },
  {
   "cell_type": "code",
   "execution_count": 26,
   "id": "ffce18a2",
   "metadata": {},
   "outputs": [],
   "source": [
    "vocab = {'<PAD>': 0,\n",
    "         '<START>': 1, \n",
    "         '<END>': 2,\n",
    "         '<UNK>': 3,\n",
    "         '<NOTH>': 4}\n",
    "freq = {}\n",
    "vocab_size = 5\n",
    "for item in captions_train['annotations']:\n",
    "    caption = item['caption']\n",
    "    caption = caption.replace(\".\", \"\")\n",
    "    caption = caption.lower()\n",
    "    caption = re.sub('[ ][ ]+', ' ', caption)\n",
    "    caption = caption.strip()\n",
    "    tokens = caption.split(' ')\n",
    "    token_ids = [vocab['<START>']]\n",
    "    for token in tokens:\n",
    "        if token not in important_words:\n",
    "            token = '<UNK>'\n",
    "        if token not in vocab:\n",
    "            vocab[token] = vocab_size\n",
    "            vocab_size += 1\n",
    "        token_ids.append(vocab[token])\n",
    "        if token != '<UNK>':\n",
    "            if token not in freq:\n",
    "                freq[token] = 1\n",
    "            else:\n",
    "                freq[token] += 1\n",
    "    token_ids.append(vocab['<END>'])\n",
    "    item['caption_ids'] = token_ids"
   ]
  },
  {
   "cell_type": "code",
   "execution_count": 28,
   "id": "16b0c1e0",
   "metadata": {},
   "outputs": [
    {
     "data": {
      "text/plain": [
       "9718"
      ]
     },
     "execution_count": 28,
     "metadata": {},
     "output_type": "execute_result"
    }
   ],
   "source": [
    "len(vocab)"
   ]
  },
  {
   "cell_type": "code",
   "execution_count": 29,
   "id": "7647cbf8",
   "metadata": {},
   "outputs": [
    {
     "data": {
      "text/plain": [
       "9713"
      ]
     },
     "execution_count": 29,
     "metadata": {},
     "output_type": "execute_result"
    }
   ],
   "source": [
    "len(freq)"
   ]
  },
  {
   "cell_type": "code",
   "execution_count": 30,
   "id": "9bc80c22",
   "metadata": {},
   "outputs": [
    {
     "data": {
      "text/plain": [
       "{'image_id': 476220,\n",
       " 'id': 314,\n",
       " 'caption': 'An empty kitchen with white and black appliances.',\n",
       " 'caption_ids': [1, 48, 11, 16, 22, 21, 8, 61, 19, 2]}"
      ]
     },
     "execution_count": 30,
     "metadata": {},
     "output_type": "execute_result"
    }
   ],
   "source": [
    "captions_train['annotations'][10]"
   ]
  },
  {
   "cell_type": "code",
   "execution_count": 32,
   "id": "dde63402",
   "metadata": {},
   "outputs": [],
   "source": [
    "json.dump(captions_train, open(os.path.join(data_root, 'annotations/captions_train2014_w_ids.json'), 'w'), indent=1)\n",
    "json.dump(vocab, open(os.path.join(data_root, 'annotations/vocab.json'), 'w'))\n",
    "json.dump(freq, open(os.path.join(data_root, 'annotations/frequency.json'), 'w'))"
   ]
  },
  {
   "cell_type": "code",
   "execution_count": 33,
   "id": "d8f9816f",
   "metadata": {},
   "outputs": [],
   "source": [
    "captions_val = json.load(open(os.path.join(data_root, 'annotations/captions_val2014.json'), 'r'))"
   ]
  },
  {
   "cell_type": "code",
   "execution_count": 34,
   "id": "0b5c95ec",
   "metadata": {},
   "outputs": [],
   "source": [
    "for item in captions_val['annotations']:\n",
    "    caption = item['caption']\n",
    "    caption = caption.replace(\".\", \"\")\n",
    "    caption = caption.lower()\n",
    "    caption = re.sub('[ ][ ]+', ' ', caption)\n",
    "    caption = caption.strip()\n",
    "    tokens = caption.split(' ')\n",
    "    token_ids = [vocab['<START>']]\n",
    "    for token in tokens:\n",
    "        if token not in important_words:\n",
    "            token = '<UNK>'\n",
    "        token_ids.append(vocab[token])\n",
    "    token_ids.append(vocab['<END>'])\n",
    "    item['caption_ids'] = token_ids"
   ]
  },
  {
   "cell_type": "code",
   "execution_count": 35,
   "id": "60efad35",
   "metadata": {},
   "outputs": [],
   "source": [
    "json.dump(captions_val, open(os.path.join(data_root, 'annotations/captions_val2014_w_ids.json'), 'w'), indent=1)"
   ]
  },
  {
   "cell_type": "code",
   "execution_count": null,
   "id": "85bb4052",
   "metadata": {},
   "outputs": [],
   "source": []
  }
 ],
 "metadata": {
  "kernelspec": {
   "display_name": "Python 3",
   "language": "python",
   "name": "python3"
  },
  "language_info": {
   "codemirror_mode": {
    "name": "ipython",
    "version": 3
   },
   "file_extension": ".py",
   "mimetype": "text/x-python",
   "name": "python",
   "nbconvert_exporter": "python",
   "pygments_lexer": "ipython3",
   "version": "3.6.8"
  }
 },
 "nbformat": 4,
 "nbformat_minor": 5
}
